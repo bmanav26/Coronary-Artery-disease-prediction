{
  "cells": [
    {
      "cell_type": "markdown",
      "metadata": {
        "id": "view-in-github",
        "colab_type": "text"
      },
      "source": [
        "<a href=\"https://colab.research.google.com/github/bmanav26/Coronary-Artery-disease-prediction/blob/main/Untitled.ipynb\" target=\"_parent\"><img src=\"https://colab.research.google.com/assets/colab-badge.svg\" alt=\"Open In Colab\"/></a>"
      ]
    },
    {
      "cell_type": "code",
      "source": [
        "from google.colab import drive\n",
        "drive.mount('/content/drive')"
      ],
      "metadata": {
        "colab": {
          "base_uri": "https://localhost:8080/"
        },
        "id": "o6jvUWDZ8cMl",
        "outputId": "4cd159d4-b35f-46a8-9976-d60da8b947b0"
      },
      "id": "o6jvUWDZ8cMl",
      "execution_count": null,
      "outputs": [
        {
          "output_type": "stream",
          "name": "stdout",
          "text": [
            "Mounted at /content/drive\n"
          ]
        }
      ]
    },
    {
      "cell_type": "code",
      "source": [
        "!pip install tensorflow"
      ],
      "metadata": {
        "colab": {
          "base_uri": "https://localhost:8080/"
        },
        "id": "rdLs4o4W5ye1",
        "outputId": "55a759c1-268a-4518-b45d-a6c6af4134ff"
      },
      "id": "rdLs4o4W5ye1",
      "execution_count": null,
      "outputs": [
        {
          "output_type": "stream",
          "name": "stdout",
          "text": [
            "Requirement already satisfied: tensorflow in /usr/local/lib/python3.10/dist-packages (2.13.0)\n",
            "Requirement already satisfied: absl-py>=1.0.0 in /usr/local/lib/python3.10/dist-packages (from tensorflow) (1.4.0)\n",
            "Requirement already satisfied: astunparse>=1.6.0 in /usr/local/lib/python3.10/dist-packages (from tensorflow) (1.6.3)\n",
            "Requirement already satisfied: flatbuffers>=23.1.21 in /usr/local/lib/python3.10/dist-packages (from tensorflow) (23.5.26)\n",
            "Requirement already satisfied: gast<=0.4.0,>=0.2.1 in /usr/local/lib/python3.10/dist-packages (from tensorflow) (0.4.0)\n",
            "Requirement already satisfied: google-pasta>=0.1.1 in /usr/local/lib/python3.10/dist-packages (from tensorflow) (0.2.0)\n",
            "Requirement already satisfied: grpcio<2.0,>=1.24.3 in /usr/local/lib/python3.10/dist-packages (from tensorflow) (1.57.0)\n",
            "Requirement already satisfied: h5py>=2.9.0 in /usr/local/lib/python3.10/dist-packages (from tensorflow) (3.9.0)\n",
            "Requirement already satisfied: keras<2.14,>=2.13.1 in /usr/local/lib/python3.10/dist-packages (from tensorflow) (2.13.1)\n",
            "Requirement already satisfied: libclang>=13.0.0 in /usr/local/lib/python3.10/dist-packages (from tensorflow) (16.0.6)\n",
            "Requirement already satisfied: numpy<=1.24.3,>=1.22 in /usr/local/lib/python3.10/dist-packages (from tensorflow) (1.23.5)\n",
            "Requirement already satisfied: opt-einsum>=2.3.2 in /usr/local/lib/python3.10/dist-packages (from tensorflow) (3.3.0)\n",
            "Requirement already satisfied: packaging in /usr/local/lib/python3.10/dist-packages (from tensorflow) (23.1)\n",
            "Requirement already satisfied: protobuf!=4.21.0,!=4.21.1,!=4.21.2,!=4.21.3,!=4.21.4,!=4.21.5,<5.0.0dev,>=3.20.3 in /usr/local/lib/python3.10/dist-packages (from tensorflow) (3.20.3)\n",
            "Requirement already satisfied: setuptools in /usr/local/lib/python3.10/dist-packages (from tensorflow) (67.7.2)\n",
            "Requirement already satisfied: six>=1.12.0 in /usr/local/lib/python3.10/dist-packages (from tensorflow) (1.16.0)\n",
            "Requirement already satisfied: tensorboard<2.14,>=2.13 in /usr/local/lib/python3.10/dist-packages (from tensorflow) (2.13.0)\n",
            "Requirement already satisfied: tensorflow-estimator<2.14,>=2.13.0 in /usr/local/lib/python3.10/dist-packages (from tensorflow) (2.13.0)\n",
            "Requirement already satisfied: termcolor>=1.1.0 in /usr/local/lib/python3.10/dist-packages (from tensorflow) (2.3.0)\n",
            "Requirement already satisfied: typing-extensions<4.6.0,>=3.6.6 in /usr/local/lib/python3.10/dist-packages (from tensorflow) (4.5.0)\n",
            "Requirement already satisfied: wrapt>=1.11.0 in /usr/local/lib/python3.10/dist-packages (from tensorflow) (1.15.0)\n",
            "Requirement already satisfied: tensorflow-io-gcs-filesystem>=0.23.1 in /usr/local/lib/python3.10/dist-packages (from tensorflow) (0.33.0)\n",
            "Requirement already satisfied: wheel<1.0,>=0.23.0 in /usr/local/lib/python3.10/dist-packages (from astunparse>=1.6.0->tensorflow) (0.41.2)\n",
            "Requirement already satisfied: google-auth<3,>=1.6.3 in /usr/local/lib/python3.10/dist-packages (from tensorboard<2.14,>=2.13->tensorflow) (2.17.3)\n",
            "Requirement already satisfied: google-auth-oauthlib<1.1,>=0.5 in /usr/local/lib/python3.10/dist-packages (from tensorboard<2.14,>=2.13->tensorflow) (1.0.0)\n",
            "Requirement already satisfied: markdown>=2.6.8 in /usr/local/lib/python3.10/dist-packages (from tensorboard<2.14,>=2.13->tensorflow) (3.4.4)\n",
            "Requirement already satisfied: requests<3,>=2.21.0 in /usr/local/lib/python3.10/dist-packages (from tensorboard<2.14,>=2.13->tensorflow) (2.31.0)\n",
            "Requirement already satisfied: tensorboard-data-server<0.8.0,>=0.7.0 in /usr/local/lib/python3.10/dist-packages (from tensorboard<2.14,>=2.13->tensorflow) (0.7.1)\n",
            "Requirement already satisfied: werkzeug>=1.0.1 in /usr/local/lib/python3.10/dist-packages (from tensorboard<2.14,>=2.13->tensorflow) (2.3.7)\n",
            "Requirement already satisfied: cachetools<6.0,>=2.0.0 in /usr/local/lib/python3.10/dist-packages (from google-auth<3,>=1.6.3->tensorboard<2.14,>=2.13->tensorflow) (5.3.1)\n",
            "Requirement already satisfied: pyasn1-modules>=0.2.1 in /usr/local/lib/python3.10/dist-packages (from google-auth<3,>=1.6.3->tensorboard<2.14,>=2.13->tensorflow) (0.3.0)\n",
            "Requirement already satisfied: rsa<5,>=3.1.4 in /usr/local/lib/python3.10/dist-packages (from google-auth<3,>=1.6.3->tensorboard<2.14,>=2.13->tensorflow) (4.9)\n",
            "Requirement already satisfied: requests-oauthlib>=0.7.0 in /usr/local/lib/python3.10/dist-packages (from google-auth-oauthlib<1.1,>=0.5->tensorboard<2.14,>=2.13->tensorflow) (1.3.1)\n",
            "Requirement already satisfied: charset-normalizer<4,>=2 in /usr/local/lib/python3.10/dist-packages (from requests<3,>=2.21.0->tensorboard<2.14,>=2.13->tensorflow) (3.2.0)\n",
            "Requirement already satisfied: idna<4,>=2.5 in /usr/local/lib/python3.10/dist-packages (from requests<3,>=2.21.0->tensorboard<2.14,>=2.13->tensorflow) (3.4)\n",
            "Requirement already satisfied: urllib3<3,>=1.21.1 in /usr/local/lib/python3.10/dist-packages (from requests<3,>=2.21.0->tensorboard<2.14,>=2.13->tensorflow) (2.0.4)\n",
            "Requirement already satisfied: certifi>=2017.4.17 in /usr/local/lib/python3.10/dist-packages (from requests<3,>=2.21.0->tensorboard<2.14,>=2.13->tensorflow) (2023.7.22)\n",
            "Requirement already satisfied: MarkupSafe>=2.1.1 in /usr/local/lib/python3.10/dist-packages (from werkzeug>=1.0.1->tensorboard<2.14,>=2.13->tensorflow) (2.1.3)\n",
            "Requirement already satisfied: pyasn1<0.6.0,>=0.4.6 in /usr/local/lib/python3.10/dist-packages (from pyasn1-modules>=0.2.1->google-auth<3,>=1.6.3->tensorboard<2.14,>=2.13->tensorflow) (0.5.0)\n",
            "Requirement already satisfied: oauthlib>=3.0.0 in /usr/local/lib/python3.10/dist-packages (from requests-oauthlib>=0.7.0->google-auth-oauthlib<1.1,>=0.5->tensorboard<2.14,>=2.13->tensorflow) (3.2.2)\n"
          ]
        }
      ]
    },
    {
      "cell_type": "code",
      "execution_count": null,
      "id": "ec20f26a",
      "metadata": {
        "id": "ec20f26a"
      },
      "outputs": [],
      "source": [
        "import os\n",
        "import tensorflow as tf\n",
        "from tensorflow.keras.preprocessing.image import ImageDataGenerator\n",
        "from tensorflow.keras.applications import DenseNet121, ResNet50, InceptionV3, VGG16\n",
        "from tensorflow.keras.models import Sequential\n",
        "from tensorflow.keras.optimizers import Adam\n",
        "from tensorflow.keras.callbacks import LearningRateScheduler\n",
        "from tensorflow.keras.layers import GlobalAveragePooling2D, Flatten, Dense, Dropout"
      ]
    },
    {
      "cell_type": "code",
      "execution_count": null,
      "id": "7cd24e92",
      "metadata": {
        "id": "7cd24e92"
      },
      "outputs": [],
      "source": [
        "dataset_path = \"/content/drive/MyDrive/SPECT_MPI_Dataset\"\n",
        "batch_size = 32\n",
        "epochs=50"
      ]
    },
    {
      "cell_type": "code",
      "source": [
        "def lr_schedule(epoch):\n",
        "    # Initial learning rate\n",
        "    initial_lr = 0.0001\n",
        "\n",
        "    # Learning rate decay factor\n",
        "    decay_factor = 0.9\n",
        "\n",
        "    # Learning rate decay every 'n' epochs\n",
        "    decay_freq = 5\n",
        "\n",
        "    # Calculate the new learning rate\n",
        "    lr = initial_lr * (decay_factor ** (epoch // decay_freq))\n",
        "\n",
        "    return lr"
      ],
      "metadata": {
        "id": "TzRcq9Wc48yU"
      },
      "id": "TzRcq9Wc48yU",
      "execution_count": null,
      "outputs": []
    },
    {
      "cell_type": "code",
      "execution_count": null,
      "id": "3491c630",
      "metadata": {
        "id": "3491c630"
      },
      "outputs": [],
      "source": [
        "data_generator = ImageDataGenerator(\n",
        "    rescale=1.0 / 255.0,\n",
        "    shear_range=0.20,\n",
        "    horizontal_flip=True,\n",
        "    rotation_range=20,\n",
        "    zoom_range=0.2,\n",
        "    width_shift_range=0.2,\n",
        "    height_shift_range=0.2\n",
        ")"
      ]
    },
    {
      "cell_type": "code",
      "execution_count": null,
      "id": "5fdf4f97",
      "metadata": {
        "colab": {
          "base_uri": "https://localhost:8080/"
        },
        "id": "5fdf4f97",
        "outputId": "820e75e8-800c-4b04-f9bf-8f1fa649041b"
      },
      "outputs": [
        {
          "output_type": "stream",
          "name": "stdout",
          "text": [
            "Found 128 images belonging to 2 classes.\n"
          ]
        }
      ],
      "source": [
        "train_generator = data_generator.flow_from_directory(\n",
        "    os.path.join(dataset_path, 'TrainSet'),\n",
        "    target_size=(256, 256),\n",
        "    batch_size=batch_size,\n",
        "    class_mode='binary'  # Adjust as needed\n",
        ")"
      ]
    },
    {
      "cell_type": "code",
      "execution_count": null,
      "id": "f996f904",
      "metadata": {
        "colab": {
          "base_uri": "https://localhost:8080/"
        },
        "id": "f996f904",
        "outputId": "1896fccc-0b8f-4aea-9a8e-5f8a3897b906"
      },
      "outputs": [
        {
          "output_type": "stream",
          "name": "stdout",
          "text": [
            "Found 32 images belonging to 2 classes.\n"
          ]
        }
      ],
      "source": [
        "test_generator = ImageDataGenerator(rescale=1.0 / 255.0).flow_from_directory(\n",
        "    os.path.join(dataset_path, 'TestSet'),\n",
        "    target_size=(256, 256),\n",
        "    batch_size=batch_size,\n",
        "    class_mode='binary'  # Adjust as needed\n",
        ")"
      ]
    },
    {
      "cell_type": "code",
      "execution_count": null,
      "id": "fa1fd470",
      "metadata": {
        "colab": {
          "base_uri": "https://localhost:8080/"
        },
        "id": "fa1fd470",
        "outputId": "b44e56fa-94ba-491d-aa7f-4c28b507661d"
      },
      "outputs": [
        {
          "output_type": "stream",
          "name": "stdout",
          "text": [
            "Found 32 images belonging to 2 classes.\n"
          ]
        }
      ],
      "source": [
        "validate_generator = data_generator.flow_from_directory(\n",
        "    os.path.join(dataset_path, 'ValidationSet'),\n",
        "    target_size=(256, 256),\n",
        "    batch_size=batch_size,\n",
        "    class_mode='binary'  # Adjust as needed\n",
        ")"
      ]
    },
    {
      "cell_type": "code",
      "execution_count": null,
      "id": "c7831dc1",
      "metadata": {
        "id": "c7831dc1"
      },
      "outputs": [],
      "source": [
        "base_model_densenet = DenseNet121(weights='imagenet', include_top=False, input_shape=(256, 256, 3))\n",
        "base_model_resnet = ResNet50(weights='imagenet', include_top=False, input_shape=(256, 256, 3))\n",
        "base_model_inception = InceptionV3(weights='imagenet', include_top=False, input_shape=(256, 256, 3))\n",
        "base_model_vgg = VGG16(weights='imagenet', include_top=False, input_shape=(256, 256, 3))"
      ]
    },
    {
      "cell_type": "code",
      "execution_count": null,
      "id": "7e540fbc",
      "metadata": {
        "id": "7e540fbc"
      },
      "outputs": [],
      "source": [
        "model_densenet = Sequential([\n",
        "    base_model_densenet,\n",
        "    Flatten(),\n",
        "    Dense(256, activation='relu'),\n",
        "    Dropout(0.3),\n",
        "    Dense(128, activation='relu'),\n",
        "    Dropout(0.3),\n",
        "    Dense(64, activation='relu'),\n",
        "    Dropout(0.3),\n",
        "    Dense(1, activation='sigmoid')\n",
        "])"
      ]
    },
    {
      "cell_type": "code",
      "execution_count": null,
      "id": "261a1e7e",
      "metadata": {
        "id": "261a1e7e"
      },
      "outputs": [],
      "source": [
        "model_resnet = Sequential([\n",
        "    base_model_resnet,\n",
        "    Flatten(),\n",
        "    Dense(256, activation='relu'),\n",
        "    Dropout(0.3),\n",
        "    Dense(128, activation='relu'),\n",
        "    Dropout(0.3),\n",
        "    Dense(64, activation='relu'),\n",
        "    Dropout(0.3),\n",
        "    Dense(1, activation='sigmoid')\n",
        "])"
      ]
    },
    {
      "cell_type": "code",
      "execution_count": null,
      "id": "95e87854",
      "metadata": {
        "id": "95e87854"
      },
      "outputs": [],
      "source": [
        "model_inception = Sequential([\n",
        "    base_model_inception,\n",
        "    Flatten(),\n",
        "    Dense(256, activation='relu'),\n",
        "    Dropout(0.3),\n",
        "    Dense(128, activation='relu'),\n",
        "    Dropout(0.3),\n",
        "    Dense(64, activation='relu'),\n",
        "    Dropout(0.3),\n",
        "    Dense(1, activation='sigmoid')\n",
        "])"
      ]
    },
    {
      "cell_type": "code",
      "execution_count": null,
      "id": "5f455f09",
      "metadata": {
        "id": "5f455f09"
      },
      "outputs": [],
      "source": [
        "model_vgg = Sequential([\n",
        "    base_model_vgg,\n",
        "    Flatten(),\n",
        "    Dense(256, activation='relu'),\n",
        "    Dropout(0.3),\n",
        "    Dense(128, activation='relu'),\n",
        "    Dropout(0.3),\n",
        "    Dense(64, activation='relu'),\n",
        "    Dropout(0.3),\n",
        "    Dense(1, activation='sigmoid')\n",
        "])"
      ]
    },
    {
      "cell_type": "code",
      "source": [
        "lr_scheduler=LearningRateScheduler(lr_schedule)"
      ],
      "metadata": {
        "id": "k5RjBVE35TD1"
      },
      "id": "k5RjBVE35TD1",
      "execution_count": null,
      "outputs": []
    },
    {
      "cell_type": "code",
      "execution_count": null,
      "id": "a692dab4",
      "metadata": {
        "id": "a692dab4"
      },
      "outputs": [],
      "source": [
        "model_densenet.compile(optimizer=Adam(learning_rate=0.0001), loss='binary_crossentropy', metrics=['accuracy'])"
      ]
    },
    {
      "cell_type": "code",
      "execution_count": null,
      "id": "546d04e8",
      "metadata": {
        "id": "546d04e8"
      },
      "outputs": [],
      "source": [
        "model_resnet.compile(optimizer=Adam(learning_rate=0.0001), loss='binary_crossentropy', metrics=['accuracy'])"
      ]
    },
    {
      "cell_type": "code",
      "execution_count": null,
      "id": "02edf0db",
      "metadata": {
        "id": "02edf0db"
      },
      "outputs": [],
      "source": [
        "model_inception.compile(optimizer=Adam(learning_rate=0.0001), loss='binary_crossentropy', metrics=['accuracy'])"
      ]
    },
    {
      "cell_type": "code",
      "execution_count": null,
      "id": "78ba8a84",
      "metadata": {
        "id": "78ba8a84"
      },
      "outputs": [],
      "source": [
        "model_vgg.compile(optimizer=Adam(learning_rate=0.0001), loss='binary_crossentropy', metrics=['accuracy'])"
      ]
    },
    {
      "cell_type": "code",
      "execution_count": null,
      "id": "bd2f2ef0",
      "metadata": {
        "colab": {
          "base_uri": "https://localhost:8080/"
        },
        "id": "bd2f2ef0",
        "outputId": "1bbf8c24-0b3a-44cf-c7cf-043e0fb741fe"
      },
      "outputs": [
        {
          "output_type": "stream",
          "name": "stdout",
          "text": [
            "Epoch 1/50\n",
            "4/4 [==============================] - 88s 2s/step - loss: 1.1943 - accuracy: 0.6016 - val_loss: 0.5183 - val_accuracy: 0.7812 - lr: 1.0000e-04\n",
            "Epoch 2/50\n",
            "4/4 [==============================] - 4s 1s/step - loss: 0.9040 - accuracy: 0.6562 - val_loss: 0.5475 - val_accuracy: 0.7812 - lr: 1.0000e-04\n",
            "Epoch 3/50\n",
            "4/4 [==============================] - 5s 1s/step - loss: 0.8415 - accuracy: 0.7266 - val_loss: 0.5294 - val_accuracy: 0.7812 - lr: 1.0000e-04\n",
            "Epoch 4/50\n",
            "4/4 [==============================] - 5s 1s/step - loss: 0.7230 - accuracy: 0.6719 - val_loss: 0.5213 - val_accuracy: 0.7812 - lr: 1.0000e-04\n",
            "Epoch 5/50\n",
            "4/4 [==============================] - 5s 1s/step - loss: 0.8011 - accuracy: 0.6719 - val_loss: 0.5280 - val_accuracy: 0.7812 - lr: 1.0000e-04\n",
            "Epoch 6/50\n",
            "4/4 [==============================] - 4s 1s/step - loss: 0.5949 - accuracy: 0.7344 - val_loss: 0.5248 - val_accuracy: 0.7812 - lr: 9.0000e-05\n",
            "Epoch 7/50\n",
            "4/4 [==============================] - 4s 998ms/step - loss: 0.7658 - accuracy: 0.7266 - val_loss: 0.4973 - val_accuracy: 0.7812 - lr: 9.0000e-05\n",
            "Epoch 8/50\n",
            "4/4 [==============================] - 6s 1s/step - loss: 0.6440 - accuracy: 0.7891 - val_loss: 0.5487 - val_accuracy: 0.7812 - lr: 9.0000e-05\n",
            "Epoch 9/50\n",
            "4/4 [==============================] - 4s 1s/step - loss: 0.7448 - accuracy: 0.6484 - val_loss: 0.5079 - val_accuracy: 0.7812 - lr: 9.0000e-05\n",
            "Epoch 10/50\n",
            "4/4 [==============================] - 4s 1s/step - loss: 0.5909 - accuracy: 0.7266 - val_loss: 0.5193 - val_accuracy: 0.7812 - lr: 9.0000e-05\n",
            "Epoch 11/50\n",
            "4/4 [==============================] - 6s 1s/step - loss: 0.5692 - accuracy: 0.7812 - val_loss: 0.5391 - val_accuracy: 0.7812 - lr: 8.1000e-05\n",
            "Epoch 12/50\n",
            "4/4 [==============================] - 4s 1s/step - loss: 0.5115 - accuracy: 0.7109 - val_loss: 0.5077 - val_accuracy: 0.7812 - lr: 8.1000e-05\n",
            "Epoch 13/50\n",
            "4/4 [==============================] - 4s 1s/step - loss: 0.5448 - accuracy: 0.7812 - val_loss: 0.5561 - val_accuracy: 0.7812 - lr: 8.1000e-05\n",
            "Epoch 14/50\n",
            "4/4 [==============================] - 5s 1s/step - loss: 0.4337 - accuracy: 0.7812 - val_loss: 0.5598 - val_accuracy: 0.7812 - lr: 8.1000e-05\n",
            "Epoch 15/50\n",
            "4/4 [==============================] - 4s 999ms/step - loss: 0.5170 - accuracy: 0.7422 - val_loss: 0.5258 - val_accuracy: 0.7812 - lr: 8.1000e-05\n",
            "Epoch 16/50\n",
            "4/4 [==============================] - 5s 1s/step - loss: 0.4600 - accuracy: 0.7656 - val_loss: 0.4928 - val_accuracy: 0.7812 - lr: 7.2900e-05\n",
            "Epoch 17/50\n",
            "4/4 [==============================] - 5s 1s/step - loss: 0.4431 - accuracy: 0.7500 - val_loss: 0.4892 - val_accuracy: 0.7500 - lr: 7.2900e-05\n",
            "Epoch 18/50\n",
            "4/4 [==============================] - 5s 1s/step - loss: 0.4397 - accuracy: 0.7578 - val_loss: 0.5343 - val_accuracy: 0.7188 - lr: 7.2900e-05\n",
            "Epoch 19/50\n",
            "4/4 [==============================] - 5s 1s/step - loss: 0.4233 - accuracy: 0.8125 - val_loss: 0.4680 - val_accuracy: 0.8125 - lr: 7.2900e-05\n",
            "Epoch 20/50\n",
            "4/4 [==============================] - 4s 1s/step - loss: 0.3409 - accuracy: 0.8984 - val_loss: 0.4644 - val_accuracy: 0.7500 - lr: 7.2900e-05\n",
            "Epoch 21/50\n",
            "4/4 [==============================] - 5s 1s/step - loss: 0.3274 - accuracy: 0.8359 - val_loss: 0.4922 - val_accuracy: 0.7500 - lr: 6.5610e-05\n",
            "Epoch 22/50\n",
            "4/4 [==============================] - 5s 1s/step - loss: 0.4163 - accuracy: 0.8203 - val_loss: 0.4686 - val_accuracy: 0.7812 - lr: 6.5610e-05\n",
            "Epoch 23/50\n",
            "4/4 [==============================] - 4s 1s/step - loss: 0.3546 - accuracy: 0.7891 - val_loss: 0.5104 - val_accuracy: 0.7812 - lr: 6.5610e-05\n",
            "Epoch 24/50\n",
            "4/4 [==============================] - 5s 1s/step - loss: 0.3686 - accuracy: 0.7891 - val_loss: 0.5450 - val_accuracy: 0.7188 - lr: 6.5610e-05\n",
            "Epoch 25/50\n",
            "4/4 [==============================] - 4s 989ms/step - loss: 0.4010 - accuracy: 0.7891 - val_loss: 0.4811 - val_accuracy: 0.7500 - lr: 6.5610e-05\n",
            "Epoch 26/50\n",
            "4/4 [==============================] - 5s 1s/step - loss: 0.3456 - accuracy: 0.7969 - val_loss: 0.4859 - val_accuracy: 0.6875 - lr: 5.9049e-05\n",
            "Epoch 27/50\n",
            "4/4 [==============================] - 4s 1s/step - loss: 0.3210 - accuracy: 0.8359 - val_loss: 0.5105 - val_accuracy: 0.7188 - lr: 5.9049e-05\n",
            "Epoch 28/50\n",
            "4/4 [==============================] - 5s 1s/step - loss: 0.3536 - accuracy: 0.7734 - val_loss: 0.5361 - val_accuracy: 0.6875 - lr: 5.9049e-05\n",
            "Epoch 29/50\n",
            "4/4 [==============================] - 5s 1s/step - loss: 0.3150 - accuracy: 0.8047 - val_loss: 0.5612 - val_accuracy: 0.6875 - lr: 5.9049e-05\n",
            "Epoch 30/50\n",
            "4/4 [==============================] - 4s 1s/step - loss: 0.2791 - accuracy: 0.8516 - val_loss: 0.4958 - val_accuracy: 0.7500 - lr: 5.9049e-05\n",
            "Epoch 31/50\n",
            "4/4 [==============================] - 4s 1s/step - loss: 0.2738 - accuracy: 0.8125 - val_loss: 0.4566 - val_accuracy: 0.7188 - lr: 5.3144e-05\n",
            "Epoch 32/50\n",
            "4/4 [==============================] - 5s 1s/step - loss: 0.3661 - accuracy: 0.7969 - val_loss: 0.4541 - val_accuracy: 0.7188 - lr: 5.3144e-05\n",
            "Epoch 33/50\n",
            "4/4 [==============================] - 4s 1s/step - loss: 0.3491 - accuracy: 0.8125 - val_loss: 0.5056 - val_accuracy: 0.7500 - lr: 5.3144e-05\n",
            "Epoch 34/50\n",
            "4/4 [==============================] - 5s 1s/step - loss: 0.2509 - accuracy: 0.8594 - val_loss: 0.4833 - val_accuracy: 0.7500 - lr: 5.3144e-05\n",
            "Epoch 35/50\n",
            "4/4 [==============================] - 5s 1s/step - loss: 0.3219 - accuracy: 0.8281 - val_loss: 0.5177 - val_accuracy: 0.7500 - lr: 5.3144e-05\n",
            "Epoch 36/50\n",
            "4/4 [==============================] - 4s 1s/step - loss: 0.2712 - accuracy: 0.8359 - val_loss: 0.4703 - val_accuracy: 0.7500 - lr: 4.7830e-05\n",
            "Epoch 37/50\n",
            "4/4 [==============================] - 4s 1s/step - loss: 0.2927 - accuracy: 0.8750 - val_loss: 0.5113 - val_accuracy: 0.7812 - lr: 4.7830e-05\n",
            "Epoch 38/50\n",
            "4/4 [==============================] - 6s 1s/step - loss: 0.2347 - accuracy: 0.8984 - val_loss: 0.3342 - val_accuracy: 0.7812 - lr: 4.7830e-05\n",
            "Epoch 39/50\n",
            "4/4 [==============================] - 4s 1s/step - loss: 0.2916 - accuracy: 0.8594 - val_loss: 0.5692 - val_accuracy: 0.6562 - lr: 4.7830e-05\n",
            "Epoch 40/50\n",
            "4/4 [==============================] - 5s 1s/step - loss: 0.2152 - accuracy: 0.8906 - val_loss: 0.6470 - val_accuracy: 0.7500 - lr: 4.7830e-05\n",
            "Epoch 41/50\n",
            "4/4 [==============================] - 5s 1s/step - loss: 0.2569 - accuracy: 0.8906 - val_loss: 0.5132 - val_accuracy: 0.7188 - lr: 4.3047e-05\n",
            "Epoch 42/50\n",
            "4/4 [==============================] - 4s 1s/step - loss: 0.3026 - accuracy: 0.8906 - val_loss: 0.6429 - val_accuracy: 0.7812 - lr: 4.3047e-05\n",
            "Epoch 43/50\n",
            "4/4 [==============================] - 5s 1s/step - loss: 0.2715 - accuracy: 0.8906 - val_loss: 0.6709 - val_accuracy: 0.6562 - lr: 4.3047e-05\n",
            "Epoch 44/50\n",
            "4/4 [==============================] - 5s 1s/step - loss: 0.2405 - accuracy: 0.9141 - val_loss: 0.4547 - val_accuracy: 0.7812 - lr: 4.3047e-05\n",
            "Epoch 45/50\n",
            "4/4 [==============================] - 4s 1s/step - loss: 0.2090 - accuracy: 0.9141 - val_loss: 0.4768 - val_accuracy: 0.7188 - lr: 4.3047e-05\n",
            "Epoch 46/50\n",
            "4/4 [==============================] - 5s 1s/step - loss: 0.2139 - accuracy: 0.9297 - val_loss: 0.3765 - val_accuracy: 0.8125 - lr: 3.8742e-05\n",
            "Epoch 47/50\n",
            "4/4 [==============================] - 4s 1s/step - loss: 0.2268 - accuracy: 0.8828 - val_loss: 0.5775 - val_accuracy: 0.6250 - lr: 3.8742e-05\n",
            "Epoch 48/50\n",
            "4/4 [==============================] - 4s 1s/step - loss: 0.2174 - accuracy: 0.8984 - val_loss: 0.3933 - val_accuracy: 0.7188 - lr: 3.8742e-05\n",
            "Epoch 49/50\n",
            "4/4 [==============================] - 5s 1s/step - loss: 0.2150 - accuracy: 0.9141 - val_loss: 0.5973 - val_accuracy: 0.7188 - lr: 3.8742e-05\n",
            "Epoch 50/50\n",
            "4/4 [==============================] - 4s 1s/step - loss: 0.2355 - accuracy: 0.9219 - val_loss: 0.5657 - val_accuracy: 0.6562 - lr: 3.8742e-05\n"
          ]
        },
        {
          "output_type": "execute_result",
          "data": {
            "text/plain": [
              "<keras.src.callbacks.History at 0x7f77841b2cb0>"
            ]
          },
          "metadata": {},
          "execution_count": 84
        }
      ],
      "source": [
        "model_densenet.fit(train_generator, validation_data=validate_generator, epochs=epochs, callbacks=[lr_scheduler])"
      ]
    },
    {
      "cell_type": "code",
      "execution_count": null,
      "id": "02225909",
      "metadata": {
        "colab": {
          "base_uri": "https://localhost:8080/"
        },
        "id": "02225909",
        "outputId": "ee9c5525-72d0-47f3-b2b5-9424d47d487d"
      },
      "outputs": [
        {
          "output_type": "stream",
          "name": "stdout",
          "text": [
            "Epoch 1/50\n",
            "4/4 [==============================] - 43s 1s/step - loss: 1.0262 - accuracy: 0.7266 - val_loss: 0.6663 - val_accuracy: 0.6562 - lr: 1.0000e-04\n",
            "Epoch 2/50\n",
            "4/4 [==============================] - 5s 1s/step - loss: 0.8880 - accuracy: 0.7422 - val_loss: 0.5876 - val_accuracy: 0.7812 - lr: 1.0000e-04\n",
            "Epoch 3/50\n",
            "4/4 [==============================] - 4s 1s/step - loss: 1.1773 - accuracy: 0.6484 - val_loss: 0.5496 - val_accuracy: 0.7812 - lr: 1.0000e-04\n",
            "Epoch 4/50\n",
            "4/4 [==============================] - 5s 1s/step - loss: 0.7990 - accuracy: 0.6953 - val_loss: 0.5183 - val_accuracy: 0.7812 - lr: 1.0000e-04\n",
            "Epoch 5/50\n",
            "4/4 [==============================] - 4s 1s/step - loss: 0.9548 - accuracy: 0.6328 - val_loss: 0.5069 - val_accuracy: 0.7812 - lr: 1.0000e-04\n",
            "Epoch 6/50\n",
            "4/4 [==============================] - 4s 1s/step - loss: 1.0880 - accuracy: 0.5547 - val_loss: 0.5815 - val_accuracy: 0.7812 - lr: 9.0000e-05\n",
            "Epoch 7/50\n",
            "4/4 [==============================] - 5s 1s/step - loss: 0.7848 - accuracy: 0.7109 - val_loss: 0.5438 - val_accuracy: 0.7812 - lr: 9.0000e-05\n",
            "Epoch 8/50\n",
            "4/4 [==============================] - 4s 1s/step - loss: 0.8578 - accuracy: 0.6875 - val_loss: 0.5294 - val_accuracy: 0.7812 - lr: 9.0000e-05\n",
            "Epoch 9/50\n",
            "4/4 [==============================] - 4s 1s/step - loss: 0.9966 - accuracy: 0.6719 - val_loss: 0.6006 - val_accuracy: 0.7812 - lr: 9.0000e-05\n",
            "Epoch 10/50\n",
            "4/4 [==============================] - 5s 1s/step - loss: 0.9694 - accuracy: 0.6562 - val_loss: 0.6909 - val_accuracy: 0.7812 - lr: 9.0000e-05\n",
            "Epoch 11/50\n",
            "4/4 [==============================] - 4s 1s/step - loss: 0.7377 - accuracy: 0.6484 - val_loss: 0.6618 - val_accuracy: 0.7812 - lr: 8.1000e-05\n",
            "Epoch 12/50\n",
            "4/4 [==============================] - 6s 1s/step - loss: 0.5547 - accuracy: 0.7266 - val_loss: 0.6794 - val_accuracy: 0.7812 - lr: 8.1000e-05\n",
            "Epoch 13/50\n",
            "4/4 [==============================] - 4s 1s/step - loss: 0.6193 - accuracy: 0.7500 - val_loss: 0.6567 - val_accuracy: 0.7812 - lr: 8.1000e-05\n",
            "Epoch 14/50\n",
            "4/4 [==============================] - 5s 1s/step - loss: 0.6783 - accuracy: 0.7266 - val_loss: 0.5628 - val_accuracy: 0.7812 - lr: 8.1000e-05\n",
            "Epoch 15/50\n",
            "4/4 [==============================] - 5s 1s/step - loss: 0.4961 - accuracy: 0.7734 - val_loss: 0.5327 - val_accuracy: 0.7812 - lr: 8.1000e-05\n",
            "Epoch 16/50\n",
            "4/4 [==============================] - 4s 1s/step - loss: 0.4830 - accuracy: 0.7812 - val_loss: 0.5402 - val_accuracy: 0.7812 - lr: 7.2900e-05\n",
            "Epoch 17/50\n",
            "4/4 [==============================] - 5s 1s/step - loss: 0.5520 - accuracy: 0.7578 - val_loss: 0.5292 - val_accuracy: 0.7812 - lr: 7.2900e-05\n",
            "Epoch 18/50\n",
            "4/4 [==============================] - 5s 1s/step - loss: 0.4982 - accuracy: 0.7500 - val_loss: 0.5213 - val_accuracy: 0.7812 - lr: 7.2900e-05\n",
            "Epoch 19/50\n",
            "4/4 [==============================] - 4s 1s/step - loss: 0.4586 - accuracy: 0.7812 - val_loss: 0.5448 - val_accuracy: 0.7812 - lr: 7.2900e-05\n",
            "Epoch 20/50\n",
            "4/4 [==============================] - 4s 1s/step - loss: 0.4648 - accuracy: 0.7578 - val_loss: 0.5751 - val_accuracy: 0.7812 - lr: 7.2900e-05\n",
            "Epoch 21/50\n",
            "4/4 [==============================] - 5s 1s/step - loss: 0.4341 - accuracy: 0.8203 - val_loss: 0.5775 - val_accuracy: 0.7812 - lr: 6.5610e-05\n",
            "Epoch 22/50\n",
            "4/4 [==============================] - 4s 1s/step - loss: 0.5010 - accuracy: 0.7344 - val_loss: 0.5554 - val_accuracy: 0.7812 - lr: 6.5610e-05\n",
            "Epoch 23/50\n",
            "4/4 [==============================] - 5s 1s/step - loss: 0.4322 - accuracy: 0.7734 - val_loss: 0.5401 - val_accuracy: 0.7812 - lr: 6.5610e-05\n",
            "Epoch 24/50\n",
            "4/4 [==============================] - 5s 1s/step - loss: 0.4877 - accuracy: 0.7422 - val_loss: 0.5234 - val_accuracy: 0.7812 - lr: 6.5610e-05\n",
            "Epoch 25/50\n",
            "4/4 [==============================] - 4s 1s/step - loss: 0.4390 - accuracy: 0.7656 - val_loss: 0.5161 - val_accuracy: 0.7812 - lr: 6.5610e-05\n",
            "Epoch 26/50\n",
            "4/4 [==============================] - 5s 1s/step - loss: 0.4228 - accuracy: 0.8203 - val_loss: 0.5376 - val_accuracy: 0.7812 - lr: 5.9049e-05\n",
            "Epoch 27/50\n",
            "4/4 [==============================] - 4s 978ms/step - loss: 0.3488 - accuracy: 0.8203 - val_loss: 0.5431 - val_accuracy: 0.7812 - lr: 5.9049e-05\n",
            "Epoch 28/50\n",
            "4/4 [==============================] - 5s 1s/step - loss: 0.4080 - accuracy: 0.8359 - val_loss: 0.5502 - val_accuracy: 0.7812 - lr: 5.9049e-05\n",
            "Epoch 29/50\n",
            "4/4 [==============================] - 4s 1s/step - loss: 0.4067 - accuracy: 0.7812 - val_loss: 0.5279 - val_accuracy: 0.7812 - lr: 5.9049e-05\n",
            "Epoch 30/50\n",
            "4/4 [==============================] - 5s 1s/step - loss: 0.3766 - accuracy: 0.7891 - val_loss: 0.5079 - val_accuracy: 0.7812 - lr: 5.9049e-05\n",
            "Epoch 31/50\n",
            "4/4 [==============================] - 6s 2s/step - loss: 0.3459 - accuracy: 0.8125 - val_loss: 0.5463 - val_accuracy: 0.7812 - lr: 5.3144e-05\n",
            "Epoch 32/50\n",
            "4/4 [==============================] - 4s 991ms/step - loss: 0.4072 - accuracy: 0.7734 - val_loss: 0.6320 - val_accuracy: 0.7812 - lr: 5.3144e-05\n",
            "Epoch 33/50\n",
            "4/4 [==============================] - 6s 1s/step - loss: 0.3510 - accuracy: 0.7969 - val_loss: 0.7205 - val_accuracy: 0.4062 - lr: 5.3144e-05\n",
            "Epoch 34/50\n",
            "4/4 [==============================] - 4s 1s/step - loss: 0.3649 - accuracy: 0.7812 - val_loss: 0.7470 - val_accuracy: 0.2812 - lr: 5.3144e-05\n",
            "Epoch 35/50\n",
            "4/4 [==============================] - 4s 995ms/step - loss: 0.3143 - accuracy: 0.8281 - val_loss: 0.6616 - val_accuracy: 0.7188 - lr: 5.3144e-05\n",
            "Epoch 36/50\n",
            "4/4 [==============================] - 5s 1s/step - loss: 0.2790 - accuracy: 0.8594 - val_loss: 0.6192 - val_accuracy: 0.7188 - lr: 4.7830e-05\n",
            "Epoch 37/50\n",
            "4/4 [==============================] - 4s 991ms/step - loss: 0.3750 - accuracy: 0.8203 - val_loss: 0.6126 - val_accuracy: 0.7812 - lr: 4.7830e-05\n",
            "Epoch 38/50\n",
            "4/4 [==============================] - 5s 1s/step - loss: 0.3024 - accuracy: 0.8516 - val_loss: 0.5516 - val_accuracy: 0.7812 - lr: 4.7830e-05\n",
            "Epoch 39/50\n",
            "4/4 [==============================] - 4s 1s/step - loss: 0.2769 - accuracy: 0.8516 - val_loss: 0.5440 - val_accuracy: 0.7812 - lr: 4.7830e-05\n",
            "Epoch 40/50\n",
            "4/4 [==============================] - 5s 1s/step - loss: 0.3095 - accuracy: 0.8125 - val_loss: 0.5413 - val_accuracy: 0.7812 - lr: 4.7830e-05\n",
            "Epoch 41/50\n",
            "4/4 [==============================] - 4s 1s/step - loss: 0.2550 - accuracy: 0.8750 - val_loss: 0.5266 - val_accuracy: 0.7812 - lr: 4.3047e-05\n",
            "Epoch 42/50\n",
            "4/4 [==============================] - 4s 1s/step - loss: 0.2978 - accuracy: 0.8438 - val_loss: 0.5687 - val_accuracy: 0.7812 - lr: 4.3047e-05\n",
            "Epoch 43/50\n",
            "4/4 [==============================] - 5s 1s/step - loss: 0.2581 - accuracy: 0.8906 - val_loss: 0.5334 - val_accuracy: 0.7812 - lr: 4.3047e-05\n",
            "Epoch 44/50\n",
            "4/4 [==============================] - 5s 1s/step - loss: 0.2631 - accuracy: 0.8828 - val_loss: 0.5878 - val_accuracy: 0.7812 - lr: 4.3047e-05\n",
            "Epoch 45/50\n",
            "4/4 [==============================] - 4s 999ms/step - loss: 0.2859 - accuracy: 0.8516 - val_loss: 0.6470 - val_accuracy: 0.7812 - lr: 4.3047e-05\n",
            "Epoch 46/50\n",
            "4/4 [==============================] - 5s 1s/step - loss: 0.2549 - accuracy: 0.8516 - val_loss: 0.7152 - val_accuracy: 0.7812 - lr: 3.8742e-05\n",
            "Epoch 47/50\n",
            "4/4 [==============================] - 4s 1s/step - loss: 0.2246 - accuracy: 0.8984 - val_loss: 0.8229 - val_accuracy: 0.7812 - lr: 3.8742e-05\n",
            "Epoch 48/50\n",
            "4/4 [==============================] - 4s 1s/step - loss: 0.2990 - accuracy: 0.8516 - val_loss: 0.7381 - val_accuracy: 0.7812 - lr: 3.8742e-05\n",
            "Epoch 49/50\n",
            "4/4 [==============================] - 5s 1s/step - loss: 0.2492 - accuracy: 0.8594 - val_loss: 0.7404 - val_accuracy: 0.7812 - lr: 3.8742e-05\n",
            "Epoch 50/50\n",
            "4/4 [==============================] - 4s 1s/step - loss: 0.2003 - accuracy: 0.9219 - val_loss: 0.5169 - val_accuracy: 0.7812 - lr: 3.8742e-05\n"
          ]
        },
        {
          "output_type": "execute_result",
          "data": {
            "text/plain": [
              "<keras.src.callbacks.History at 0x7f77841b1ea0>"
            ]
          },
          "metadata": {},
          "execution_count": 85
        }
      ],
      "source": [
        "model_resnet.fit(train_generator, validation_data=validate_generator, epochs=epochs, callbacks=[lr_scheduler])"
      ]
    },
    {
      "cell_type": "code",
      "source": [
        "# test_generator."
      ],
      "metadata": {
        "id": "GfySf1_60oFO"
      },
      "id": "GfySf1_60oFO",
      "execution_count": null,
      "outputs": []
    },
    {
      "cell_type": "code",
      "execution_count": null,
      "id": "2acb5bc6",
      "metadata": {
        "colab": {
          "base_uri": "https://localhost:8080/"
        },
        "id": "2acb5bc6",
        "outputId": "95fb2dd7-94db-4aaf-a049-3988a5686cae"
      },
      "outputs": [
        {
          "output_type": "stream",
          "name": "stdout",
          "text": [
            "Epoch 1/50\n",
            "4/4 [==============================] - 41s 1s/step - loss: 0.8571 - accuracy: 0.6172 - val_loss: 0.4934 - val_accuracy: 0.7812 - lr: 1.0000e-04\n",
            "Epoch 2/50\n",
            "4/4 [==============================] - 5s 1s/step - loss: 0.9333 - accuracy: 0.6172 - val_loss: 0.6363 - val_accuracy: 0.7812 - lr: 1.0000e-04\n",
            "Epoch 3/50\n",
            "4/4 [==============================] - 4s 949ms/step - loss: 0.7482 - accuracy: 0.7109 - val_loss: 0.9399 - val_accuracy: 0.7812 - lr: 1.0000e-04\n",
            "Epoch 4/50\n",
            "4/4 [==============================] - 4s 951ms/step - loss: 0.6611 - accuracy: 0.7188 - val_loss: 0.5967 - val_accuracy: 0.7812 - lr: 1.0000e-04\n",
            "Epoch 5/50\n",
            "4/4 [==============================] - 5s 1s/step - loss: 0.7148 - accuracy: 0.6875 - val_loss: 0.5825 - val_accuracy: 0.7812 - lr: 1.0000e-04\n",
            "Epoch 6/50\n",
            "4/4 [==============================] - 4s 950ms/step - loss: 0.6389 - accuracy: 0.7344 - val_loss: 0.6029 - val_accuracy: 0.7812 - lr: 9.0000e-05\n",
            "Epoch 7/50\n",
            "4/4 [==============================] - 4s 955ms/step - loss: 0.7013 - accuracy: 0.6953 - val_loss: 0.5965 - val_accuracy: 0.7812 - lr: 9.0000e-05\n",
            "Epoch 8/50\n",
            "4/4 [==============================] - 5s 1s/step - loss: 0.5974 - accuracy: 0.7266 - val_loss: 0.6130 - val_accuracy: 0.7812 - lr: 9.0000e-05\n",
            "Epoch 9/50\n",
            "4/4 [==============================] - 4s 940ms/step - loss: 0.6877 - accuracy: 0.7031 - val_loss: 0.6031 - val_accuracy: 0.7812 - lr: 9.0000e-05\n",
            "Epoch 10/50\n",
            "4/4 [==============================] - 5s 1s/step - loss: 0.6029 - accuracy: 0.7344 - val_loss: 0.5558 - val_accuracy: 0.7812 - lr: 9.0000e-05\n",
            "Epoch 11/50\n",
            "4/4 [==============================] - 4s 977ms/step - loss: 0.5628 - accuracy: 0.7422 - val_loss: 0.5302 - val_accuracy: 0.7812 - lr: 8.1000e-05\n",
            "Epoch 12/50\n",
            "4/4 [==============================] - 4s 997ms/step - loss: 0.5488 - accuracy: 0.7266 - val_loss: 0.5300 - val_accuracy: 0.7812 - lr: 8.1000e-05\n",
            "Epoch 13/50\n",
            "4/4 [==============================] - 5s 1s/step - loss: 0.5624 - accuracy: 0.7734 - val_loss: 0.5216 - val_accuracy: 0.7812 - lr: 8.1000e-05\n",
            "Epoch 14/50\n",
            "4/4 [==============================] - 4s 965ms/step - loss: 0.5379 - accuracy: 0.7109 - val_loss: 0.5415 - val_accuracy: 0.7812 - lr: 8.1000e-05\n",
            "Epoch 15/50\n",
            "4/4 [==============================] - 4s 967ms/step - loss: 0.5489 - accuracy: 0.7344 - val_loss: 0.5894 - val_accuracy: 0.7812 - lr: 8.1000e-05\n",
            "Epoch 16/50\n",
            "4/4 [==============================] - 5s 1s/step - loss: 0.4797 - accuracy: 0.7656 - val_loss: 0.5420 - val_accuracy: 0.7812 - lr: 7.2900e-05\n",
            "Epoch 17/50\n",
            "4/4 [==============================] - 4s 982ms/step - loss: 0.4671 - accuracy: 0.7656 - val_loss: 0.6037 - val_accuracy: 0.7812 - lr: 7.2900e-05\n",
            "Epoch 18/50\n",
            "4/4 [==============================] - 4s 980ms/step - loss: 0.5191 - accuracy: 0.7734 - val_loss: 0.6091 - val_accuracy: 0.7500 - lr: 7.2900e-05\n",
            "Epoch 19/50\n",
            "4/4 [==============================] - 5s 1s/step - loss: 0.5200 - accuracy: 0.7656 - val_loss: 0.5294 - val_accuracy: 0.7188 - lr: 7.2900e-05\n",
            "Epoch 20/50\n",
            "4/4 [==============================] - 4s 968ms/step - loss: 0.4760 - accuracy: 0.7656 - val_loss: 0.5658 - val_accuracy: 0.7812 - lr: 7.2900e-05\n",
            "Epoch 21/50\n",
            "4/4 [==============================] - 5s 1s/step - loss: 0.4593 - accuracy: 0.7812 - val_loss: 0.4757 - val_accuracy: 0.7812 - lr: 6.5610e-05\n",
            "Epoch 22/50\n",
            "4/4 [==============================] - 4s 976ms/step - loss: 0.4514 - accuracy: 0.7656 - val_loss: 0.5533 - val_accuracy: 0.7812 - lr: 6.5610e-05\n",
            "Epoch 23/50\n",
            "4/4 [==============================] - 4s 997ms/step - loss: 0.4462 - accuracy: 0.7734 - val_loss: 0.6628 - val_accuracy: 0.7500 - lr: 6.5610e-05\n",
            "Epoch 24/50\n",
            "4/4 [==============================] - 5s 1s/step - loss: 0.4394 - accuracy: 0.7969 - val_loss: 0.5773 - val_accuracy: 0.7812 - lr: 6.5610e-05\n",
            "Epoch 25/50\n",
            "4/4 [==============================] - 4s 985ms/step - loss: 0.4497 - accuracy: 0.8047 - val_loss: 0.5068 - val_accuracy: 0.7812 - lr: 6.5610e-05\n",
            "Epoch 26/50\n",
            "4/4 [==============================] - 4s 953ms/step - loss: 0.3831 - accuracy: 0.8281 - val_loss: 0.5555 - val_accuracy: 0.7188 - lr: 5.9049e-05\n",
            "Epoch 27/50\n",
            "4/4 [==============================] - 6s 2s/step - loss: 0.4843 - accuracy: 0.7891 - val_loss: 0.6269 - val_accuracy: 0.7812 - lr: 5.9049e-05\n",
            "Epoch 28/50\n",
            "4/4 [==============================] - 4s 960ms/step - loss: 0.4680 - accuracy: 0.7891 - val_loss: 0.5091 - val_accuracy: 0.7500 - lr: 5.9049e-05\n",
            "Epoch 29/50\n",
            "4/4 [==============================] - 5s 1s/step - loss: 0.4526 - accuracy: 0.8047 - val_loss: 0.5495 - val_accuracy: 0.7188 - lr: 5.9049e-05\n",
            "Epoch 30/50\n",
            "4/4 [==============================] - 4s 982ms/step - loss: 0.4225 - accuracy: 0.8359 - val_loss: 0.5887 - val_accuracy: 0.7188 - lr: 5.9049e-05\n",
            "Epoch 31/50\n",
            "4/4 [==============================] - 4s 950ms/step - loss: 0.4032 - accuracy: 0.7891 - val_loss: 0.5485 - val_accuracy: 0.7812 - lr: 5.3144e-05\n",
            "Epoch 32/50\n",
            "4/4 [==============================] - 5s 1s/step - loss: 0.3763 - accuracy: 0.7891 - val_loss: 0.5277 - val_accuracy: 0.7812 - lr: 5.3144e-05\n",
            "Epoch 33/50\n",
            "4/4 [==============================] - 4s 980ms/step - loss: 0.3843 - accuracy: 0.8125 - val_loss: 0.5210 - val_accuracy: 0.7812 - lr: 5.3144e-05\n",
            "Epoch 34/50\n",
            "4/4 [==============================] - 4s 1s/step - loss: 0.4417 - accuracy: 0.8281 - val_loss: 0.6291 - val_accuracy: 0.8125 - lr: 5.3144e-05\n",
            "Epoch 35/50\n",
            "4/4 [==============================] - 4s 980ms/step - loss: 0.3239 - accuracy: 0.8281 - val_loss: 0.6060 - val_accuracy: 0.7500 - lr: 5.3144e-05\n",
            "Epoch 36/50\n",
            "4/4 [==============================] - 4s 972ms/step - loss: 0.3713 - accuracy: 0.8516 - val_loss: 0.5047 - val_accuracy: 0.7812 - lr: 4.7830e-05\n",
            "Epoch 37/50\n",
            "4/4 [==============================] - 4s 1s/step - loss: 0.3927 - accuracy: 0.7812 - val_loss: 0.6068 - val_accuracy: 0.7500 - lr: 4.7830e-05\n",
            "Epoch 38/50\n",
            "4/4 [==============================] - 5s 1s/step - loss: 0.4314 - accuracy: 0.7891 - val_loss: 0.6066 - val_accuracy: 0.7500 - lr: 4.7830e-05\n",
            "Epoch 39/50\n",
            "4/4 [==============================] - 4s 969ms/step - loss: 0.3534 - accuracy: 0.7969 - val_loss: 0.5816 - val_accuracy: 0.7500 - lr: 4.7830e-05\n",
            "Epoch 40/50\n",
            "4/4 [==============================] - 4s 957ms/step - loss: 0.3249 - accuracy: 0.8438 - val_loss: 0.8713 - val_accuracy: 0.7812 - lr: 4.7830e-05\n",
            "Epoch 41/50\n",
            "4/4 [==============================] - 5s 1s/step - loss: 0.3658 - accuracy: 0.8203 - val_loss: 0.5956 - val_accuracy: 0.7500 - lr: 4.3047e-05\n",
            "Epoch 42/50\n",
            "4/4 [==============================] - 4s 977ms/step - loss: 0.3276 - accuracy: 0.8438 - val_loss: 0.5899 - val_accuracy: 0.7500 - lr: 4.3047e-05\n",
            "Epoch 43/50\n",
            "4/4 [==============================] - 5s 1s/step - loss: 0.3257 - accuracy: 0.8672 - val_loss: 0.4956 - val_accuracy: 0.7188 - lr: 4.3047e-05\n",
            "Epoch 44/50\n",
            "4/4 [==============================] - 5s 1s/step - loss: 0.3143 - accuracy: 0.8750 - val_loss: 0.5664 - val_accuracy: 0.7500 - lr: 4.3047e-05\n",
            "Epoch 45/50\n",
            "4/4 [==============================] - 4s 982ms/step - loss: 0.2949 - accuracy: 0.8828 - val_loss: 0.6086 - val_accuracy: 0.7500 - lr: 4.3047e-05\n",
            "Epoch 46/50\n",
            "4/4 [==============================] - 4s 1s/step - loss: 0.2615 - accuracy: 0.9219 - val_loss: 0.6291 - val_accuracy: 0.7500 - lr: 3.8742e-05\n",
            "Epoch 47/50\n",
            "4/4 [==============================] - 4s 969ms/step - loss: 0.3268 - accuracy: 0.8438 - val_loss: 0.7399 - val_accuracy: 0.7500 - lr: 3.8742e-05\n",
            "Epoch 48/50\n",
            "4/4 [==============================] - 4s 988ms/step - loss: 0.2917 - accuracy: 0.8672 - val_loss: 0.5288 - val_accuracy: 0.7812 - lr: 3.8742e-05\n",
            "Epoch 49/50\n",
            "4/4 [==============================] - 5s 1s/step - loss: 0.2868 - accuracy: 0.8750 - val_loss: 0.7312 - val_accuracy: 0.7812 - lr: 3.8742e-05\n",
            "Epoch 50/50\n",
            "4/4 [==============================] - 4s 969ms/step - loss: 0.3208 - accuracy: 0.8516 - val_loss: 0.5464 - val_accuracy: 0.7812 - lr: 3.8742e-05\n"
          ]
        },
        {
          "output_type": "execute_result",
          "data": {
            "text/plain": [
              "<keras.src.callbacks.History at 0x7f7779b8b7f0>"
            ]
          },
          "metadata": {},
          "execution_count": 87
        }
      ],
      "source": [
        "model_inception.fit(train_generator, validation_data=validate_generator, epochs=epochs, callbacks=[lr_scheduler])"
      ]
    },
    {
      "cell_type": "code",
      "execution_count": null,
      "id": "3180d9ca",
      "metadata": {
        "colab": {
          "base_uri": "https://localhost:8080/"
        },
        "id": "3180d9ca",
        "outputId": "56cf1320-3064-4019-f8d6-8e0950839a65"
      },
      "outputs": [
        {
          "output_type": "stream",
          "name": "stdout",
          "text": [
            "Epoch 1/50\n",
            "4/4 [==============================] - 11s 1s/step - loss: 0.8359 - accuracy: 0.5547 - val_loss: 0.5236 - val_accuracy: 0.7812 - lr: 1.0000e-04\n",
            "Epoch 2/50\n",
            "4/4 [==============================] - 4s 1s/step - loss: 0.6300 - accuracy: 0.7344 - val_loss: 0.5309 - val_accuracy: 0.7812 - lr: 1.0000e-04\n",
            "Epoch 3/50\n",
            "4/4 [==============================] - 5s 1s/step - loss: 0.5964 - accuracy: 0.7578 - val_loss: 0.5252 - val_accuracy: 0.7812 - lr: 1.0000e-04\n",
            "Epoch 4/50\n",
            "4/4 [==============================] - 5s 1s/step - loss: 0.5771 - accuracy: 0.7656 - val_loss: 0.5237 - val_accuracy: 0.7812 - lr: 1.0000e-04\n",
            "Epoch 5/50\n",
            "4/4 [==============================] - 4s 1s/step - loss: 0.5702 - accuracy: 0.7734 - val_loss: 0.5258 - val_accuracy: 0.7812 - lr: 1.0000e-04\n",
            "Epoch 6/50\n",
            "4/4 [==============================] - 6s 1s/step - loss: 0.5850 - accuracy: 0.7656 - val_loss: 0.5183 - val_accuracy: 0.7812 - lr: 9.0000e-05\n",
            "Epoch 7/50\n",
            "4/4 [==============================] - 5s 1s/step - loss: 0.5580 - accuracy: 0.7734 - val_loss: 0.5230 - val_accuracy: 0.7812 - lr: 9.0000e-05\n",
            "Epoch 8/50\n",
            "4/4 [==============================] - 6s 1s/step - loss: 0.5793 - accuracy: 0.7500 - val_loss: 0.5195 - val_accuracy: 0.7812 - lr: 9.0000e-05\n",
            "Epoch 9/50\n",
            "4/4 [==============================] - 4s 1s/step - loss: 0.5272 - accuracy: 0.7812 - val_loss: 0.5380 - val_accuracy: 0.7812 - lr: 9.0000e-05\n",
            "Epoch 10/50\n",
            "4/4 [==============================] - 6s 1s/step - loss: 0.5339 - accuracy: 0.7734 - val_loss: 0.5388 - val_accuracy: 0.7812 - lr: 9.0000e-05\n",
            "Epoch 11/50\n",
            "4/4 [==============================] - 5s 1s/step - loss: 0.5998 - accuracy: 0.7812 - val_loss: 0.5172 - val_accuracy: 0.7812 - lr: 8.1000e-05\n",
            "Epoch 12/50\n",
            "4/4 [==============================] - 5s 1s/step - loss: 0.5645 - accuracy: 0.7578 - val_loss: 0.5237 - val_accuracy: 0.7812 - lr: 8.1000e-05\n",
            "Epoch 13/50\n",
            "4/4 [==============================] - 5s 1s/step - loss: 0.5797 - accuracy: 0.7500 - val_loss: 0.5274 - val_accuracy: 0.7812 - lr: 8.1000e-05\n",
            "Epoch 14/50\n",
            "4/4 [==============================] - 4s 1s/step - loss: 0.5900 - accuracy: 0.7734 - val_loss: 0.5259 - val_accuracy: 0.7812 - lr: 8.1000e-05\n",
            "Epoch 15/50\n",
            "4/4 [==============================] - 5s 1s/step - loss: 0.5505 - accuracy: 0.7734 - val_loss: 0.5219 - val_accuracy: 0.7812 - lr: 8.1000e-05\n",
            "Epoch 16/50\n",
            "4/4 [==============================] - 5s 1s/step - loss: 0.5627 - accuracy: 0.7734 - val_loss: 0.5275 - val_accuracy: 0.7812 - lr: 7.2900e-05\n",
            "Epoch 17/50\n",
            "4/4 [==============================] - 4s 1s/step - loss: 0.5804 - accuracy: 0.7734 - val_loss: 0.5304 - val_accuracy: 0.7812 - lr: 7.2900e-05\n",
            "Epoch 18/50\n",
            "4/4 [==============================] - 5s 1s/step - loss: 0.5523 - accuracy: 0.7812 - val_loss: 0.5187 - val_accuracy: 0.7812 - lr: 7.2900e-05\n",
            "Epoch 19/50\n",
            "4/4 [==============================] - 5s 1s/step - loss: 0.5256 - accuracy: 0.7812 - val_loss: 0.5242 - val_accuracy: 0.7812 - lr: 7.2900e-05\n",
            "Epoch 20/50\n",
            "4/4 [==============================] - 4s 1s/step - loss: 0.5708 - accuracy: 0.7656 - val_loss: 0.5299 - val_accuracy: 0.7812 - lr: 7.2900e-05\n",
            "Epoch 21/50\n",
            "4/4 [==============================] - 6s 1s/step - loss: 0.5397 - accuracy: 0.7891 - val_loss: 0.5239 - val_accuracy: 0.7812 - lr: 6.5610e-05\n",
            "Epoch 22/50\n",
            "4/4 [==============================] - 4s 1s/step - loss: 0.5469 - accuracy: 0.7656 - val_loss: 0.5223 - val_accuracy: 0.7812 - lr: 6.5610e-05\n",
            "Epoch 23/50\n",
            "4/4 [==============================] - 4s 1s/step - loss: 0.5444 - accuracy: 0.7812 - val_loss: 0.5163 - val_accuracy: 0.7812 - lr: 6.5610e-05\n",
            "Epoch 24/50\n",
            "4/4 [==============================] - 6s 2s/step - loss: 0.5232 - accuracy: 0.7812 - val_loss: 0.5231 - val_accuracy: 0.7812 - lr: 6.5610e-05\n",
            "Epoch 25/50\n",
            "4/4 [==============================] - 5s 1s/step - loss: 0.5537 - accuracy: 0.7891 - val_loss: 0.5180 - val_accuracy: 0.7812 - lr: 6.5610e-05\n",
            "Epoch 26/50\n",
            "4/4 [==============================] - 5s 1s/step - loss: 0.5450 - accuracy: 0.7812 - val_loss: 0.5194 - val_accuracy: 0.7812 - lr: 5.9049e-05\n",
            "Epoch 27/50\n",
            "4/4 [==============================] - 4s 1s/step - loss: 0.5209 - accuracy: 0.7812 - val_loss: 0.5184 - val_accuracy: 0.7812 - lr: 5.9049e-05\n",
            "Epoch 28/50\n",
            "4/4 [==============================] - 5s 1s/step - loss: 0.5355 - accuracy: 0.7812 - val_loss: 0.5103 - val_accuracy: 0.7812 - lr: 5.9049e-05\n",
            "Epoch 29/50\n",
            "4/4 [==============================] - 5s 1s/step - loss: 0.5533 - accuracy: 0.7812 - val_loss: 0.5130 - val_accuracy: 0.7812 - lr: 5.9049e-05\n",
            "Epoch 30/50\n",
            "4/4 [==============================] - 4s 1s/step - loss: 0.5427 - accuracy: 0.7812 - val_loss: 0.5110 - val_accuracy: 0.7812 - lr: 5.9049e-05\n",
            "Epoch 31/50\n",
            "4/4 [==============================] - 6s 1s/step - loss: 0.5386 - accuracy: 0.7812 - val_loss: 0.5152 - val_accuracy: 0.7812 - lr: 5.3144e-05\n",
            "Epoch 32/50\n",
            "4/4 [==============================] - 4s 1s/step - loss: 0.5297 - accuracy: 0.7812 - val_loss: 0.5052 - val_accuracy: 0.7812 - lr: 5.3144e-05\n",
            "Epoch 33/50\n",
            "4/4 [==============================] - 6s 1s/step - loss: 0.5190 - accuracy: 0.7812 - val_loss: 0.4937 - val_accuracy: 0.7812 - lr: 5.3144e-05\n",
            "Epoch 34/50\n",
            "4/4 [==============================] - 4s 1s/step - loss: 0.5055 - accuracy: 0.7891 - val_loss: 0.4813 - val_accuracy: 0.7812 - lr: 5.3144e-05\n",
            "Epoch 35/50\n",
            "4/4 [==============================] - 4s 1s/step - loss: 0.4988 - accuracy: 0.7812 - val_loss: 0.4726 - val_accuracy: 0.7812 - lr: 5.3144e-05\n",
            "Epoch 36/50\n",
            "4/4 [==============================] - 5s 1s/step - loss: 0.5523 - accuracy: 0.7656 - val_loss: 0.5001 - val_accuracy: 0.7812 - lr: 4.7830e-05\n",
            "Epoch 37/50\n",
            "4/4 [==============================] - 5s 1s/step - loss: 0.5313 - accuracy: 0.7891 - val_loss: 0.4540 - val_accuracy: 0.7812 - lr: 4.7830e-05\n",
            "Epoch 38/50\n",
            "4/4 [==============================] - 4s 1s/step - loss: 0.6096 - accuracy: 0.7422 - val_loss: 0.6128 - val_accuracy: 0.7812 - lr: 4.7830e-05\n",
            "Epoch 39/50\n",
            "4/4 [==============================] - 6s 1s/step - loss: 0.6148 - accuracy: 0.7500 - val_loss: 0.5770 - val_accuracy: 0.7812 - lr: 4.7830e-05\n",
            "Epoch 40/50\n",
            "4/4 [==============================] - 4s 1s/step - loss: 0.5654 - accuracy: 0.7734 - val_loss: 0.5263 - val_accuracy: 0.7812 - lr: 4.7830e-05\n",
            "Epoch 41/50\n",
            "4/4 [==============================] - 6s 1s/step - loss: 0.5257 - accuracy: 0.7969 - val_loss: 0.5198 - val_accuracy: 0.7812 - lr: 4.3047e-05\n",
            "Epoch 42/50\n",
            "4/4 [==============================] - 5s 1s/step - loss: 0.5321 - accuracy: 0.7812 - val_loss: 0.5343 - val_accuracy: 0.7812 - lr: 4.3047e-05\n",
            "Epoch 43/50\n",
            "4/4 [==============================] - 5s 1s/step - loss: 0.5208 - accuracy: 0.7734 - val_loss: 0.5108 - val_accuracy: 0.7812 - lr: 4.3047e-05\n",
            "Epoch 44/50\n",
            "4/4 [==============================] - 4s 1s/step - loss: 0.5681 - accuracy: 0.7812 - val_loss: 0.4932 - val_accuracy: 0.7812 - lr: 4.3047e-05\n",
            "Epoch 45/50\n",
            "4/4 [==============================] - 5s 1s/step - loss: 0.5276 - accuracy: 0.7812 - val_loss: 0.4981 - val_accuracy: 0.7812 - lr: 4.3047e-05\n",
            "Epoch 46/50\n",
            "4/4 [==============================] - 4s 1s/step - loss: 0.5328 - accuracy: 0.7812 - val_loss: 0.4966 - val_accuracy: 0.7812 - lr: 3.8742e-05\n",
            "Epoch 47/50\n",
            "4/4 [==============================] - 6s 2s/step - loss: 0.5377 - accuracy: 0.7812 - val_loss: 0.4795 - val_accuracy: 0.7812 - lr: 3.8742e-05\n",
            "Epoch 48/50\n",
            "4/4 [==============================] - 4s 1s/step - loss: 0.5434 - accuracy: 0.7812 - val_loss: 0.4918 - val_accuracy: 0.7812 - lr: 3.8742e-05\n",
            "Epoch 49/50\n",
            "4/4 [==============================] - 5s 1s/step - loss: 0.4972 - accuracy: 0.7812 - val_loss: 0.4647 - val_accuracy: 0.7812 - lr: 3.8742e-05\n",
            "Epoch 50/50\n",
            "4/4 [==============================] - 4s 1s/step - loss: 0.4742 - accuracy: 0.7812 - val_loss: 0.4803 - val_accuracy: 0.7812 - lr: 3.8742e-05\n"
          ]
        },
        {
          "output_type": "execute_result",
          "data": {
            "text/plain": [
              "<keras.src.callbacks.History at 0x7f7764503b20>"
            ]
          },
          "metadata": {},
          "execution_count": 88
        }
      ],
      "source": [
        "model_vgg.fit(train_generator, validation_data=validate_generator, epochs=epochs, callbacks=[lr_scheduler])"
      ]
    },
    {
      "cell_type": "code",
      "execution_count": null,
      "id": "b0c5a402",
      "metadata": {
        "colab": {
          "base_uri": "https://localhost:8080/"
        },
        "id": "b0c5a402",
        "outputId": "ad3ec67d-bccd-4b58-a2dd-dfad647bbd36"
      },
      "outputs": [
        {
          "output_type": "stream",
          "name": "stdout",
          "text": [
            "1/1 [==============================] - 0s 361ms/step - loss: 0.4387 - accuracy: 0.7812\n"
          ]
        }
      ],
      "source": [
        "test_loss, test_accuracy = model_densenet.evaluate(test_generator)"
      ]
    },
    {
      "cell_type": "code",
      "execution_count": null,
      "id": "014ca80f",
      "metadata": {
        "colab": {
          "base_uri": "https://localhost:8080/"
        },
        "id": "014ca80f",
        "outputId": "ffa31375-1dfe-49af-cf0d-7ec87f6de52f"
      },
      "outputs": [
        {
          "output_type": "stream",
          "name": "stdout",
          "text": [
            "1/1 [==============================] - 0s 375ms/step - loss: 0.5672 - accuracy: 0.7812\n"
          ]
        }
      ],
      "source": [
        "test_loss, test_accuracy = model_resnet.evaluate(test_generator)"
      ]
    },
    {
      "cell_type": "code",
      "execution_count": null,
      "id": "a3a576f7",
      "metadata": {
        "colab": {
          "base_uri": "https://localhost:8080/"
        },
        "id": "a3a576f7",
        "outputId": "c011d6ba-80af-4ca8-8c05-4c44eec4d21b"
      },
      "outputs": [
        {
          "output_type": "stream",
          "name": "stdout",
          "text": [
            "1/1 [==============================] - 0s 341ms/step - loss: 0.3080 - accuracy: 0.8438\n"
          ]
        }
      ],
      "source": [
        "test_loss, test_accuracy = model_inception.evaluate(test_generator)"
      ]
    },
    {
      "cell_type": "code",
      "execution_count": null,
      "id": "47bc4ce0",
      "metadata": {
        "colab": {
          "base_uri": "https://localhost:8080/"
        },
        "id": "47bc4ce0",
        "outputId": "3746111a-1750-4257-d0ad-804b21263cc6"
      },
      "outputs": [
        {
          "output_type": "stream",
          "name": "stdout",
          "text": [
            "1/1 [==============================] - 0s 467ms/step - loss: 0.4005 - accuracy: 0.7812\n"
          ]
        }
      ],
      "source": [
        "test_loss, test_accuracy = model_vgg.evaluate(test_generator)"
      ]
    },
    {
      "cell_type": "code",
      "execution_count": null,
      "id": "f1bd76e4",
      "metadata": {
        "id": "f1bd76e4"
      },
      "outputs": [],
      "source": [
        "from sklearn.metrics import accuracy_score, precision_score, recall_score, f1_score"
      ]
    },
    {
      "cell_type": "code",
      "execution_count": null,
      "id": "328a8c4e",
      "metadata": {
        "id": "328a8c4e"
      },
      "outputs": [],
      "source": [
        "def evaluate(model, test_generator, true_labels):\n",
        "    predictions = model_densenet.predict(test_generator)\n",
        "    threshold=0.5\n",
        "    predicted_labels = (predictions > threshold).astype(int)\n",
        "    accuracy=accuracy_score(true_labels, predicted_labels)\n",
        "    precision = precision_score(true_labels, predicted_labels)\n",
        "    recall = recall_score(true_labels, predicted_labels)\n",
        "    f1 = f1_score(true_labels, predicted_labels)\n",
        "    return accuracy, precision, recall, f1"
      ]
    },
    {
      "cell_type": "code",
      "execution_count": null,
      "id": "ac1024aa",
      "metadata": {
        "id": "ac1024aa",
        "colab": {
          "base_uri": "https://localhost:8080/",
          "height": 245
        },
        "outputId": "b3432241-eeef-4ebe-c0a3-c3a52452d16e"
      },
      "outputs": [
        {
          "output_type": "error",
          "ename": "NameError",
          "evalue": "ignored",
          "traceback": [
            "\u001b[0;31m---------------------------------------------------------------------------\u001b[0m",
            "\u001b[0;31mNameError\u001b[0m                                 Traceback (most recent call last)",
            "\u001b[0;32m<ipython-input-64-bf7e411c6b7e>\u001b[0m in \u001b[0;36m<cell line: 3>\u001b[0;34m()\u001b[0m\n\u001b[1;32m      2\u001b[0m \u001b[0mmodels\u001b[0m\u001b[0;34m=\u001b[0m\u001b[0;34m[\u001b[0m\u001b[0mmodel_densenet\u001b[0m\u001b[0;34m,\u001b[0m \u001b[0mmodel_resnet\u001b[0m\u001b[0;34m,\u001b[0m \u001b[0mmodel_inception\u001b[0m\u001b[0;34m,\u001b[0m \u001b[0mmodel_vgg\u001b[0m\u001b[0;34m]\u001b[0m\u001b[0;34m\u001b[0m\u001b[0;34m\u001b[0m\u001b[0m\n\u001b[1;32m      3\u001b[0m \u001b[0;32mfor\u001b[0m \u001b[0mi\u001b[0m\u001b[0;34m,\u001b[0m \u001b[0mmodel\u001b[0m \u001b[0;32min\u001b[0m \u001b[0menumerate\u001b[0m\u001b[0;34m(\u001b[0m\u001b[0mmodels\u001b[0m\u001b[0;34m)\u001b[0m\u001b[0;34m:\u001b[0m\u001b[0;34m\u001b[0m\u001b[0;34m\u001b[0m\u001b[0m\n\u001b[0;32m----> 4\u001b[0;31m     \u001b[0maccuracy\u001b[0m\u001b[0;34m,\u001b[0m \u001b[0mprecision\u001b[0m\u001b[0;34m,\u001b[0m \u001b[0mrecall\u001b[0m\u001b[0;34m,\u001b[0m \u001b[0mf1\u001b[0m\u001b[0;34m=\u001b[0m\u001b[0mevaluate\u001b[0m\u001b[0;34m(\u001b[0m\u001b[0mmodel\u001b[0m\u001b[0;34m,\u001b[0m \u001b[0mtest_generator\u001b[0m\u001b[0;34m,\u001b[0m \u001b[0mtrue_labels\u001b[0m\u001b[0;34m)\u001b[0m\u001b[0;34m\u001b[0m\u001b[0;34m\u001b[0m\u001b[0m\n\u001b[0m\u001b[1;32m      5\u001b[0m     \u001b[0mprint\u001b[0m\u001b[0;34m(\u001b[0m\u001b[0;34mf\"{mode_name[i]} evaluation:\"\u001b[0m\u001b[0;34m)\u001b[0m\u001b[0;34m\u001b[0m\u001b[0;34m\u001b[0m\u001b[0m\n\u001b[1;32m      6\u001b[0m     \u001b[0mprint\u001b[0m\u001b[0;34m(\u001b[0m\u001b[0;34mf\"Accuracy: {accuracy}\"\u001b[0m\u001b[0;34m)\u001b[0m\u001b[0;34m\u001b[0m\u001b[0;34m\u001b[0m\u001b[0m\n",
            "\u001b[0;31mNameError\u001b[0m: name 'true_labels' is not defined"
          ]
        }
      ],
      "source": [
        "model_name=[\"DenseNet121\", \"ResNet50\", \"InceptionV3\", \"VGG16\"]\n",
        "models=[model_densenet, model_resnet, model_inception, model_vgg]\n",
        "for i, model in enumerate(models):\n",
        "    accuracy, precision, recall, f1=evaluate(model, test_generator, true_labels)\n",
        "    print(f\"{mode_name[i]} evaluation:\")\n",
        "    print(f\"Accuracy: {accuracy}\")\n",
        "    print(f\"Precision: {precision}\")\n",
        "    print(f\"Recall: {recall}\")\n",
        "    print(f\"F1-score: {f1}\")"
      ]
    },
    {
      "cell_type": "code",
      "execution_count": null,
      "id": "5754c3cb",
      "metadata": {
        "id": "5754c3cb"
      },
      "outputs": [],
      "source": []
    }
  ],
  "metadata": {
    "kernelspec": {
      "display_name": "Python 3",
      "name": "python3"
    },
    "language_info": {
      "codemirror_mode": {
        "name": "ipython",
        "version": 3
      },
      "file_extension": ".py",
      "mimetype": "text/x-python",
      "name": "python",
      "nbconvert_exporter": "python",
      "pygments_lexer": "ipython3",
      "version": "3.11.4"
    },
    "colab": {
      "provenance": [],
      "gpuType": "T4",
      "include_colab_link": true
    },
    "accelerator": "GPU"
  },
  "nbformat": 4,
  "nbformat_minor": 5
}