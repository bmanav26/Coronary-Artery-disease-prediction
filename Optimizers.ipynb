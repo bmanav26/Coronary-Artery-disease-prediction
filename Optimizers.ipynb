{
  "cells": [
    {
      "cell_type": "markdown",
      "metadata": {
        "id": "view-in-github",
        "colab_type": "text"
      },
      "source": [
        "<a href=\"https://colab.research.google.com/github/bmanav26/Coronary-Artery-disease-prediction/blob/main/Optimizers.ipynb\" target=\"_parent\"><img src=\"https://colab.research.google.com/assets/colab-badge.svg\" alt=\"Open In Colab\"/></a>"
      ]
    },
    {
      "cell_type": "code",
      "execution_count": null,
      "metadata": {
        "colab": {
          "base_uri": "https://localhost:8080/"
        },
        "id": "o6jvUWDZ8cMl",
        "outputId": "f28fa1a8-27e9-4bad-d6e8-7488ccd74b7d"
      },
      "outputs": [
        {
          "name": "stdout",
          "output_type": "stream",
          "text": [
            "Drive already mounted at /content/drive; to attempt to forcibly remount, call drive.mount(\"/content/drive\", force_remount=True).\n"
          ]
        }
      ],
      "source": [
        "from google.colab import drive\n",
        "drive.mount('/content/drive')"
      ],
      "id": "o6jvUWDZ8cMl"
    },
    {
      "cell_type": "code",
      "execution_count": null,
      "metadata": {
        "colab": {
          "base_uri": "https://localhost:8080/"
        },
        "id": "rdLs4o4W5ye1",
        "outputId": "c3f6851a-a99b-4aab-9961-8080c084910d"
      },
      "outputs": [
        {
          "name": "stdout",
          "output_type": "stream",
          "text": [
            "Requirement already satisfied: tensorflow in /usr/local/lib/python3.10/dist-packages (2.13.0)\n",
            "Requirement already satisfied: absl-py>=1.0.0 in /usr/local/lib/python3.10/dist-packages (from tensorflow) (1.4.0)\n",
            "Requirement already satisfied: astunparse>=1.6.0 in /usr/local/lib/python3.10/dist-packages (from tensorflow) (1.6.3)\n",
            "Requirement already satisfied: flatbuffers>=23.1.21 in /usr/local/lib/python3.10/dist-packages (from tensorflow) (23.5.26)\n",
            "Requirement already satisfied: gast<=0.4.0,>=0.2.1 in /usr/local/lib/python3.10/dist-packages (from tensorflow) (0.4.0)\n",
            "Requirement already satisfied: google-pasta>=0.1.1 in /usr/local/lib/python3.10/dist-packages (from tensorflow) (0.2.0)\n",
            "Requirement already satisfied: grpcio<2.0,>=1.24.3 in /usr/local/lib/python3.10/dist-packages (from tensorflow) (1.59.0)\n",
            "Requirement already satisfied: h5py>=2.9.0 in /usr/local/lib/python3.10/dist-packages (from tensorflow) (3.9.0)\n",
            "Requirement already satisfied: keras<2.14,>=2.13.1 in /usr/local/lib/python3.10/dist-packages (from tensorflow) (2.13.1)\n",
            "Requirement already satisfied: libclang>=13.0.0 in /usr/local/lib/python3.10/dist-packages (from tensorflow) (16.0.6)\n",
            "Requirement already satisfied: numpy<=1.24.3,>=1.22 in /usr/local/lib/python3.10/dist-packages (from tensorflow) (1.23.5)\n",
            "Requirement already satisfied: opt-einsum>=2.3.2 in /usr/local/lib/python3.10/dist-packages (from tensorflow) (3.3.0)\n",
            "Requirement already satisfied: packaging in /usr/local/lib/python3.10/dist-packages (from tensorflow) (23.2)\n",
            "Requirement already satisfied: protobuf!=4.21.0,!=4.21.1,!=4.21.2,!=4.21.3,!=4.21.4,!=4.21.5,<5.0.0dev,>=3.20.3 in /usr/local/lib/python3.10/dist-packages (from tensorflow) (3.20.3)\n",
            "Requirement already satisfied: setuptools in /usr/local/lib/python3.10/dist-packages (from tensorflow) (67.7.2)\n",
            "Requirement already satisfied: six>=1.12.0 in /usr/local/lib/python3.10/dist-packages (from tensorflow) (1.16.0)\n",
            "Requirement already satisfied: tensorboard<2.14,>=2.13 in /usr/local/lib/python3.10/dist-packages (from tensorflow) (2.13.0)\n",
            "Requirement already satisfied: tensorflow-estimator<2.14,>=2.13.0 in /usr/local/lib/python3.10/dist-packages (from tensorflow) (2.13.0)\n",
            "Requirement already satisfied: termcolor>=1.1.0 in /usr/local/lib/python3.10/dist-packages (from tensorflow) (2.3.0)\n",
            "Requirement already satisfied: typing-extensions<4.6.0,>=3.6.6 in /usr/local/lib/python3.10/dist-packages (from tensorflow) (4.5.0)\n",
            "Requirement already satisfied: wrapt>=1.11.0 in /usr/local/lib/python3.10/dist-packages (from tensorflow) (1.15.0)\n",
            "Requirement already satisfied: tensorflow-io-gcs-filesystem>=0.23.1 in /usr/local/lib/python3.10/dist-packages (from tensorflow) (0.34.0)\n",
            "Requirement already satisfied: wheel<1.0,>=0.23.0 in /usr/local/lib/python3.10/dist-packages (from astunparse>=1.6.0->tensorflow) (0.41.2)\n",
            "Requirement already satisfied: google-auth<3,>=1.6.3 in /usr/local/lib/python3.10/dist-packages (from tensorboard<2.14,>=2.13->tensorflow) (2.17.3)\n",
            "Requirement already satisfied: google-auth-oauthlib<1.1,>=0.5 in /usr/local/lib/python3.10/dist-packages (from tensorboard<2.14,>=2.13->tensorflow) (1.0.0)\n",
            "Requirement already satisfied: markdown>=2.6.8 in /usr/local/lib/python3.10/dist-packages (from tensorboard<2.14,>=2.13->tensorflow) (3.5)\n",
            "Requirement already satisfied: requests<3,>=2.21.0 in /usr/local/lib/python3.10/dist-packages (from tensorboard<2.14,>=2.13->tensorflow) (2.31.0)\n",
            "Requirement already satisfied: tensorboard-data-server<0.8.0,>=0.7.0 in /usr/local/lib/python3.10/dist-packages (from tensorboard<2.14,>=2.13->tensorflow) (0.7.1)\n",
            "Requirement already satisfied: werkzeug>=1.0.1 in /usr/local/lib/python3.10/dist-packages (from tensorboard<2.14,>=2.13->tensorflow) (3.0.0)\n",
            "Requirement already satisfied: cachetools<6.0,>=2.0.0 in /usr/local/lib/python3.10/dist-packages (from google-auth<3,>=1.6.3->tensorboard<2.14,>=2.13->tensorflow) (5.3.1)\n",
            "Requirement already satisfied: pyasn1-modules>=0.2.1 in /usr/local/lib/python3.10/dist-packages (from google-auth<3,>=1.6.3->tensorboard<2.14,>=2.13->tensorflow) (0.3.0)\n",
            "Requirement already satisfied: rsa<5,>=3.1.4 in /usr/local/lib/python3.10/dist-packages (from google-auth<3,>=1.6.3->tensorboard<2.14,>=2.13->tensorflow) (4.9)\n",
            "Requirement already satisfied: requests-oauthlib>=0.7.0 in /usr/local/lib/python3.10/dist-packages (from google-auth-oauthlib<1.1,>=0.5->tensorboard<2.14,>=2.13->tensorflow) (1.3.1)\n",
            "Requirement already satisfied: charset-normalizer<4,>=2 in /usr/local/lib/python3.10/dist-packages (from requests<3,>=2.21.0->tensorboard<2.14,>=2.13->tensorflow) (3.3.0)\n",
            "Requirement already satisfied: idna<4,>=2.5 in /usr/local/lib/python3.10/dist-packages (from requests<3,>=2.21.0->tensorboard<2.14,>=2.13->tensorflow) (3.4)\n",
            "Requirement already satisfied: urllib3<3,>=1.21.1 in /usr/local/lib/python3.10/dist-packages (from requests<3,>=2.21.0->tensorboard<2.14,>=2.13->tensorflow) (2.0.7)\n",
            "Requirement already satisfied: certifi>=2017.4.17 in /usr/local/lib/python3.10/dist-packages (from requests<3,>=2.21.0->tensorboard<2.14,>=2.13->tensorflow) (2023.7.22)\n",
            "Requirement already satisfied: MarkupSafe>=2.1.1 in /usr/local/lib/python3.10/dist-packages (from werkzeug>=1.0.1->tensorboard<2.14,>=2.13->tensorflow) (2.1.3)\n",
            "Requirement already satisfied: pyasn1<0.6.0,>=0.4.6 in /usr/local/lib/python3.10/dist-packages (from pyasn1-modules>=0.2.1->google-auth<3,>=1.6.3->tensorboard<2.14,>=2.13->tensorflow) (0.5.0)\n",
            "Requirement already satisfied: oauthlib>=3.0.0 in /usr/local/lib/python3.10/dist-packages (from requests-oauthlib>=0.7.0->google-auth-oauthlib<1.1,>=0.5->tensorboard<2.14,>=2.13->tensorflow) (3.2.2)\n"
          ]
        }
      ],
      "source": [
        "!pip install tensorflow"
      ],
      "id": "rdLs4o4W5ye1"
    },
    {
      "cell_type": "code",
      "execution_count": null,
      "metadata": {
        "id": "ec20f26a"
      },
      "outputs": [],
      "source": [
        "import os\n",
        "import tensorflow as tf\n",
        "from tensorflow.keras.preprocessing.image import ImageDataGenerator\n",
        "from tensorflow.keras.applications import DenseNet121, ResNet50, InceptionV3, VGG16\n",
        "from tensorflow.keras.models import Sequential\n",
        "from tensorflow.keras.optimizers import Adam, AdamW, Adadelta, Adafactor, Nadam, SGD, RMSprop\n",
        "from tensorflow.keras.callbacks import LearningRateScheduler\n",
        "from tensorflow.keras.layers import Flatten, Dense, Dropout"
      ],
      "id": "ec20f26a"
    },
    {
      "cell_type": "code",
      "execution_count": null,
      "metadata": {
        "id": "7cd24e92"
      },
      "outputs": [],
      "source": [
        "dataset_path = \"/content/drive/MyDrive/SPECT_MPI_Dataset\"\n",
        "batch_size = 32\n",
        "epochs=50"
      ],
      "id": "7cd24e92"
    },
    {
      "cell_type": "markdown",
      "metadata": {
        "id": "rUam_28xxbuB"
      },
      "source": [
        "Defining decaying learning rate function"
      ],
      "id": "rUam_28xxbuB"
    },
    {
      "cell_type": "code",
      "execution_count": null,
      "metadata": {
        "id": "TzRcq9Wc48yU"
      },
      "outputs": [],
      "source": [
        "def lr_schedule(epoch):\n",
        "    # Initial learning rate\n",
        "    initial_lr = 0.0001\n",
        "\n",
        "    # Learning rate decay factor\n",
        "    decay_factor = 0.9\n",
        "\n",
        "    # Learning rate decay every 'n' epochs\n",
        "    decay_freq = 5\n",
        "\n",
        "    # Calculate the new learning rate\n",
        "    lr = initial_lr * (decay_factor ** (epoch // decay_freq))\n",
        "\n",
        "    return lr"
      ],
      "id": "TzRcq9Wc48yU"
    },
    {
      "cell_type": "markdown",
      "metadata": {
        "id": "wZ8up5hkv_LA"
      },
      "source": [
        "**Data Augmentation Function**"
      ],
      "id": "wZ8up5hkv_LA"
    },
    {
      "cell_type": "code",
      "execution_count": null,
      "metadata": {
        "id": "3491c630"
      },
      "outputs": [],
      "source": [
        "data_generator = ImageDataGenerator(\n",
        "    rescale=1.0 / 255.0, # this performs min-max normalization\n",
        "    shear_range=0.20,\n",
        "    horizontal_flip=True,\n",
        "    rotation_range=20,\n",
        "    zoom_range=0.2,\n",
        "    width_shift_range=0.2,\n",
        "    height_shift_range=0.2\n",
        ")"
      ],
      "id": "3491c630"
    },
    {
      "cell_type": "markdown",
      "metadata": {
        "id": "L1iwjmSDwyO7"
      },
      "source": [
        "**Applying min-max normalization and data augmentation on given image dataset**"
      ],
      "id": "L1iwjmSDwyO7"
    },
    {
      "cell_type": "code",
      "execution_count": null,
      "metadata": {
        "colab": {
          "base_uri": "https://localhost:8080/"
        },
        "id": "5fdf4f97",
        "outputId": "7574f3dc-dbb8-46f0-99ed-62dc5f8e3e09"
      },
      "outputs": [
        {
          "name": "stdout",
          "output_type": "stream",
          "text": [
            "Found 128 images belonging to 2 classes.\n"
          ]
        }
      ],
      "source": [
        "train_generator = data_generator.flow_from_directory(\n",
        "    os.path.join(dataset_path, 'TrainSet'),\n",
        "    target_size=(256, 256),\n",
        "    batch_size=batch_size,\n",
        "    class_mode='binary'  # Adjust as needed\n",
        ")"
      ],
      "id": "5fdf4f97"
    },
    {
      "cell_type": "code",
      "execution_count": null,
      "metadata": {
        "colab": {
          "base_uri": "https://localhost:8080/"
        },
        "id": "f996f904",
        "outputId": "dc0e5654-211e-444f-bf47-da266624a940"
      },
      "outputs": [
        {
          "name": "stdout",
          "output_type": "stream",
          "text": [
            "Found 32 images belonging to 2 classes.\n"
          ]
        }
      ],
      "source": [
        "test_generator = ImageDataGenerator(rescale=1.0 / 255.0).flow_from_directory(\n",
        "    os.path.join(dataset_path, 'TestSet'),\n",
        "    target_size=(256, 256),\n",
        "    batch_size=batch_size,\n",
        "    class_mode='binary'  # Adjust as needed\n",
        ")"
      ],
      "id": "f996f904"
    },
    {
      "cell_type": "code",
      "execution_count": null,
      "metadata": {
        "colab": {
          "base_uri": "https://localhost:8080/"
        },
        "id": "fa1fd470",
        "outputId": "5c780900-07ac-45b9-af83-2e43e96ae9fa"
      },
      "outputs": [
        {
          "name": "stdout",
          "output_type": "stream",
          "text": [
            "Found 32 images belonging to 2 classes.\n"
          ]
        }
      ],
      "source": [
        "\n",
        "validate_generator = data_generator.flow_from_directory(\n",
        "    os.path.join(dataset_path, 'ValidationSet'),\n",
        "    target_size=(256, 256),\n",
        "    batch_size=batch_size,\n",
        "    class_mode='binary'  # Adjust as needed\n",
        ")"
      ],
      "id": "fa1fd470"
    },
    {
      "cell_type": "markdown",
      "metadata": {
        "id": "S7nZccV0xG6L"
      },
      "source": [
        "**Defining pre-trained CNN models on imagenet**"
      ],
      "id": "S7nZccV0xG6L"
    },
    {
      "cell_type": "code",
      "execution_count": null,
      "metadata": {
        "id": "c7831dc1"
      },
      "outputs": [],
      "source": [
        "base_model_densenet = DenseNet121(weights='imagenet', include_top=False, input_shape=(256, 256, 3))\n",
        "base_model_resnet = ResNet50(weights='imagenet', include_top=False, input_shape=(256, 256, 3))\n",
        "base_model_inception = InceptionV3(weights='imagenet', include_top=False, input_shape=(256, 256, 3))\n",
        "base_model_vgg = VGG16(weights='imagenet', include_top=False, input_shape=(256, 256, 3))"
      ],
      "id": "c7831dc1"
    },
    {
      "cell_type": "code",
      "execution_count": null,
      "metadata": {
        "id": "k5RjBVE35TD1"
      },
      "outputs": [],
      "source": [
        "lr_scheduler=LearningRateScheduler(lr_schedule)"
      ],
      "id": "k5RjBVE35TD1"
    },
    {
      "cell_type": "markdown",
      "source": [
        "**Function to train a model with a particular optimizer and return test results**"
      ],
      "metadata": {
        "id": "krxpMcZo7TcR"
      },
      "id": "krxpMcZo7TcR"
    },
    {
      "cell_type": "code",
      "execution_count": null,
      "metadata": {
        "id": "8YMh0A2rZkMO"
      },
      "outputs": [],
      "source": [
        "def model_function(base_model, opt):\n",
        "  model = Sequential([\n",
        "      base_model,\n",
        "      Flatten(),\n",
        "      Dense(256, activation='relu'),\n",
        "      Dropout(0.3),\n",
        "      Dense(128, activation='relu'),\n",
        "      Dropout(0.3),\n",
        "      Dense(64, activation='relu'),\n",
        "      Dropout(0.3),\n",
        "      Dense(1, activation='sigmoid')\n",
        "  ])\n",
        "  model.compile(optimizer=opt, loss='binary_crossentropy', metrics=['accuracy'])\n",
        "  model.fit(train_generator, validation_data=validate_generator, epochs=epochs, callbacks=[lr_scheduler])\n",
        "  test_loss, test_accuracy = model.evaluate(test_generator)\n",
        "  return test_loss, test_accuracy"
      ],
      "id": "8YMh0A2rZkMO"
    },
    {
      "cell_type": "markdown",
      "source": [
        "**Defining optimizers' names**"
      ],
      "metadata": {
        "id": "R-VMgkkl7gxn"
      },
      "id": "R-VMgkkl7gxn"
    },
    {
      "cell_type": "code",
      "execution_count": null,
      "metadata": {
        "id": "eLPD5P4Dvtlf"
      },
      "outputs": [],
      "source": [
        "optimizer_names=[\"RMSprop\", \"Adadelta\", \"Nadam\", \"SGD\", \"AdamW\", \"Adam\"]"
      ],
      "id": "eLPD5P4Dvtlf"
    },
    {
      "cell_type": "markdown",
      "source": [
        "**Storing Models in a List**"
      ],
      "metadata": {
        "id": "maqiXo3-7mAM"
      },
      "id": "maqiXo3-7mAM"
    },
    {
      "cell_type": "code",
      "execution_count": null,
      "metadata": {
        "id": "gxQTKIg-NWj4"
      },
      "outputs": [],
      "source": [
        "models=[base_model_densenet, base_model_resnet, base_model_inception, base_model_vgg]\n",
        "model_names=[\"DenseNet121\", \"ResNet50\", \"InceptionV3\", \"VGG16\"]"
      ],
      "id": "gxQTKIg-NWj4"
    },
    {
      "cell_type": "code",
      "execution_count": null,
      "metadata": {
        "id": "YtCo_sIkOLi9"
      },
      "outputs": [],
      "source": [
        "test_results=[]"
      ],
      "id": "YtCo_sIkOLi9"
    },
    {
      "cell_type": "code",
      "execution_count": null,
      "metadata": {
        "colab": {
          "base_uri": "https://localhost:8080/"
        },
        "id": "nhU5w4vkmfSJ",
        "outputId": "6be9b469-8e9b-46dd-b63b-f24355c71c29"
      },
      "outputs": [
        {
          "name": "stdout",
          "output_type": "stream",
          "text": [
            "['DenseNet121', 'ResNet50', 'InceptionV3', 'VGG16']\n",
            "['RMSprop', 'Adadelta', 'Nadam', 'SGD', 'AdamW', 'Adam']\n"
          ]
        }
      ],
      "source": [
        "print(model_names)\n",
        "print(optimizer_names)"
      ],
      "id": "nhU5w4vkmfSJ"
    },
    {
      "cell_type": "markdown",
      "source": [
        "**Training all models for RMSprop**"
      ],
      "metadata": {
        "id": "OVV6c2jR7sdB"
      },
      "id": "OVV6c2jR7sdB"
    },
    {
      "cell_type": "code",
      "execution_count": null,
      "metadata": {
        "colab": {
          "background_save": true
        },
        "id": "gZ9F47s3qwzN"
      },
      "outputs": [],
      "source": [
        "for i in range(len(models)):\n",
        "  print(model_names[i])\n",
        "  test_loss, test_accuracy=model_function(models[i], RMSprop(learning_rate=0.0001))\n",
        "  test_results.extend([model_names[i], test_loss, test_accuracy])"
      ],
      "id": "gZ9F47s3qwzN"
    },
    {
      "cell_type": "markdown",
      "source": [
        "**Training all models for Adadelta**"
      ],
      "metadata": {
        "id": "4dySSs7L70kO"
      },
      "id": "4dySSs7L70kO"
    },
    {
      "cell_type": "code",
      "execution_count": null,
      "metadata": {
        "id": "rjGS1f8aQF40"
      },
      "outputs": [],
      "source": [
        "for i in range(len(models)):\n",
        "  print(model_names[i])\n",
        "  test_loss, test_accuracy=model_function(models[i], Adadelta(learning_rate=0.0001))\n",
        "  test_results.extend([model_names[i], test_loss, test_accuracy])"
      ],
      "id": "rjGS1f8aQF40"
    },
    {
      "cell_type": "markdown",
      "source": [
        "**Training all models for Nadam**"
      ],
      "metadata": {
        "id": "sukr_2L673vu"
      },
      "id": "sukr_2L673vu"
    },
    {
      "cell_type": "code",
      "execution_count": null,
      "metadata": {
        "id": "WkOd7NpzP_4-"
      },
      "outputs": [],
      "source": [
        "for i in range(len(models)):\n",
        "  print(model_names[i])\n",
        "  test_loss, test_accuracy=model_function(models[i], Nadam(learning_rate=0.0001))\n",
        "  test_results.extend([model_names[i], test_loss, test_accuracy])"
      ],
      "id": "WkOd7NpzP_4-"
    },
    {
      "cell_type": "markdown",
      "source": [
        "**Training all models for SGD with Momentum**"
      ],
      "metadata": {
        "id": "uCoHRCoA76KJ"
      },
      "id": "uCoHRCoA76KJ"
    },
    {
      "cell_type": "code",
      "execution_count": null,
      "metadata": {
        "id": "x3wVkrqAOmh5"
      },
      "outputs": [],
      "source": [
        "for i in range(len(models)):\n",
        "  print(model_names[i])\n",
        "  test_loss, test_accuracy=model_function(models[i], SGD(learning_rate=0.0001, momentum = 0.9))\n",
        "  test_results.extend([model_names[i], test_loss, test_accuracy])"
      ],
      "id": "x3wVkrqAOmh5"
    },
    {
      "cell_type": "markdown",
      "source": [
        "**Training all models for AdamW**"
      ],
      "metadata": {
        "id": "LyokViAN7916"
      },
      "id": "LyokViAN7916"
    },
    {
      "cell_type": "code",
      "execution_count": null,
      "metadata": {
        "id": "NZ6ym5xHJwdI"
      },
      "outputs": [],
      "source": [
        "for i in range(len(models)):\n",
        "  print(model_names[i])\n",
        "  test_loss, test_accuracy=model_function(models[i], AdamW(learning_rate=0.0001))\n",
        "  test_results.extend([model_names[i], test_loss, test_accuracy])"
      ],
      "id": "NZ6ym5xHJwdI"
    },
    {
      "cell_type": "markdown",
      "source": [
        "**Training all models for Adam**"
      ],
      "metadata": {
        "id": "hYhu5L3U7_4H"
      },
      "id": "hYhu5L3U7_4H"
    },
    {
      "cell_type": "code",
      "execution_count": null,
      "metadata": {
        "id": "QT07VJkhbcr6"
      },
      "outputs": [],
      "source": [
        "for i in range(len(models)):\n",
        "  print(model_names[i])\n",
        "  test_loss, test_accuracy=model_function(models[i], Adam(learning_rate=0.0001))\n",
        "  test_results.extend([model_names[i], test_loss, test_accuracy])"
      ],
      "id": "QT07VJkhbcr6"
    },
    {
      "cell_type": "markdown",
      "source": [
        "**Printing Test Results**"
      ],
      "metadata": {
        "id": "PoPRuE4p8Bu3"
      },
      "id": "PoPRuE4p8Bu3"
    },
    {
      "cell_type": "code",
      "source": [
        "for i, optimizer in enumerate(optimizer_names):\n",
        "  print(optimizer)\n",
        "  for j in range(i*12, i*12+12):\n",
        "    if j%3==0:\n",
        "      print()\n",
        "      print(test_results[j])\n",
        "    elif j%3==1:\n",
        "      print(\"Test Loss: \",test_results[j])\n",
        "    else:\n",
        "      print(\"Test Accuracy: \", test_results[j])\n",
        "  print(\"----------------------------------------------------------------------------\")"
      ],
      "metadata": {
        "id": "4LcCcwq-7IYi"
      },
      "id": "4LcCcwq-7IYi",
      "execution_count": null,
      "outputs": []
    }
  ],
  "metadata": {
    "accelerator": "GPU",
    "colab": {
      "provenance": [],
      "include_colab_link": true
    },
    "kernelspec": {
      "display_name": "Python 3",
      "name": "python3"
    },
    "language_info": {
      "codemirror_mode": {
        "name": "ipython",
        "version": 3
      },
      "file_extension": ".py",
      "mimetype": "text/x-python",
      "name": "python",
      "nbconvert_exporter": "python",
      "pygments_lexer": "ipython3",
      "version": "3.11.4"
    }
  },
  "nbformat": 4,
  "nbformat_minor": 5
}