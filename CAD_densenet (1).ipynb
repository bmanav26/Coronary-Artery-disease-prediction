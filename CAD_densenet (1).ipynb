{
  "cells": [
    {
      "cell_type": "code",
      "execution_count": null,
      "metadata": {
        "colab": {
          "base_uri": "https://localhost:8080/"
        },
        "id": "qVwQta5ivhlf",
        "outputId": "00a7f733-56b4-45dc-f8e3-c28b13146bac"
      },
      "outputs": [],
      "source": [
        "from google.colab import drive\n",
        "drive.mount('/content/drive')"
      ]
    },
    {
      "cell_type": "code",
      "execution_count": null,
      "metadata": {
        "colab": {
          "base_uri": "https://localhost:8080/"
        },
        "id": "4pZv-R-myJ3Q",
        "outputId": "9377d1f3-2879-4c46-c0a1-89efdfc7c0c0"
      },
      "outputs": [],
      "source": [
        "pip install -U keras-tuner"
      ]
    },
    {
      "cell_type": "code",
      "execution_count": null,
      "metadata": {
        "id": "2pkbzzQcvS2L"
      },
      "outputs": [],
      "source": [
        "import numpy as np\n",
        "import matplotlib.pyplot as plt\n",
        "import matplotlib.dates as mdates\n",
        "# from keras.utils import np_utils\n",
        "import keras\n",
        "from keras.preprocessing.image import ImageDataGenerator\n",
        "from keras.models import Sequential\n",
        "from keras.applications import DenseNet201, ResNet101V2, InceptionV3, EfficientNetB4, Xception\n",
        "from keras.layers import Activation, Dropout, Flatten, Dense\n",
        "from keras import backend as K\n",
        "from keras.optimizers import Adam\n",
        "from keras.callbacks import EarlyStopping\n",
        "from keras.preprocessing import image\n",
        "from random import shuffle\n",
        "import os, os.path\n",
        "from sklearn.metrics import confusion_matrix, f1_score\n",
        "from sklearn.utils import class_weight\n",
        "import cv2\n",
        "# import keras_tuner as kt"
      ]
    },
    {
      "cell_type": "code",
      "execution_count": null,
      "metadata": {
        "id": "_1v8AtORvS2Q"
      },
      "outputs": [],
      "source": [
        "image_dest_dir = \"/content/drive/MyDrive/SPECT_MPI_Dataset\""
      ]
    },
    {
      "cell_type": "code",
      "execution_count": null,
      "metadata": {
        "colab": {
          "base_uri": "https://localhost:8080/"
        },
        "id": "zeTiiIJovS2R",
        "outputId": "7c30b8ae-0e4a-49bf-8354-e11ec05b8211"
      },
      "outputs": [],
      "source": [
        "dir_list_1 = (os.listdir(image_dest_dir))\n",
        "dir_list_1"
      ]
    },
    {
      "cell_type": "code",
      "execution_count": null,
      "metadata": {
        "id": "O4IyQ9dZvS2S"
      },
      "outputs": [],
      "source": [
        "valid_dir_path = image_dest_dir+'/'+dir_list_1[2]\n",
        "test_dir_path = image_dest_dir+'/'+dir_list_1[0]\n",
        "train_dir_path = image_dest_dir+'/'+dir_list_1[1]"
      ]
    },
    {
      "cell_type": "code",
      "execution_count": null,
      "metadata": {
        "colab": {
          "base_uri": "https://localhost:8080/"
        },
        "id": "gbTYUpdSvS2S",
        "outputId": "d3be2730-e8e9-4af9-8d78-742a2d64d2a6"
      },
      "outputs": [],
      "source": [
        "os.listdir(train_dir_path)"
      ]
    },
    {
      "cell_type": "code",
      "execution_count": null,
      "metadata": {
        "colab": {
          "base_uri": "https://localhost:8080/"
        },
        "id": "_4-dZLO1vS2T",
        "outputId": "fff23771-4740-4519-d50f-d94836ac7430"
      },
      "outputs": [],
      "source": [
        "for i in range(len(dir_list_1)):\n",
        "    dir_list_2 = os.listdir(image_dest_dir+'/'+dir_list_1[i])\n",
        "print(dir_list_2)\n"
      ]
    },
    {
      "cell_type": "code",
      "execution_count": null,
      "metadata": {
        "colab": {
          "base_uri": "https://localhost:8080/"
        },
        "id": "ZN2ZmBo7vS2T",
        "outputId": "2291281c-2111-4cbc-c8f2-88b6a9f767d1"
      },
      "outputs": [],
      "source": [
        "print(\"\\t\\tTrain DataSet\")\n",
        "print(\"CT scans with normal            : \" + str(len(os.listdir(train_dir_path+'/'+dir_list_2[1]))))\n",
        "print(\"CT scans with abnormal          : \" + str(len(os.listdir(train_dir_path+'/'+dir_list_2[0]))))\n",
        "\n",
        "print(\"\\n\\t\\tTest DataSet\")\n",
        "print(\"CT scans with normal            : \" + str(len(os.listdir(test_dir_path+'/'+dir_list_2[1]))))\n",
        "print(\"CT scans with abnormal          : \" + str(len(os.listdir(test_dir_path+'/'+dir_list_2[0]))))\n",
        "\n",
        "print(\"\\n\\t\\tvalid DataSet\")\n",
        "print(\"CT scans with normal            : \" + str(len(os.listdir(valid_dir_path+'/'+dir_list_2[1]))))\n",
        "print(\"CT scans with abnormal          : \" + str(len(os.listdir(valid_dir_path+'/'+dir_list_2[0]))))\n"
      ]
    },
    {
      "cell_type": "code",
      "execution_count": null,
      "metadata": {
        "id": "UoL-_kUsvS2V"
      },
      "outputs": [],
      "source": [
        "# train_image_list = os.listdir(train_dir_path+'/'+dir_list_2[1])\n",
        "\n",
        "# w=10\n",
        "# h=10\n",
        "# fig=plt.figure(figsize=(15 , 20))\n",
        "# columns = 5\n",
        "# rows = 10\n",
        "# for i in range(columns*rows):\n",
        "#     path = train_dir_path +'/'+dir_list_2[1]+\"/\"+train_image_list[i]\n",
        "#     img = cv2.imread(path, cv2.IMREAD_GRAYSCALE)\n",
        "#     fig.add_subplot(rows, columns, i+1)\n",
        "#     plt.imshow(img, cmap=\"gray\")\n",
        "# plt.show()"
      ]
    },
    {
      "cell_type": "code",
      "execution_count": null,
      "metadata": {
        "id": "lJUc51ibvS2V"
      },
      "outputs": [],
      "source": [
        "# train_image_list = os.listdir(train_dir_path+'/'+dir_list_2[1])\n",
        "\n",
        "# w=10\n",
        "# h=10\n",
        "# fig=plt.figure(figsize=(15 , 20))\n",
        "# columns = 5\n",
        "# rows = 10\n",
        "# for i in range(1, columns*rows+1):\n",
        "#     path = train_dir_path+'/'+dir_list_2[1]+'/' + train_image_list[i-1]\n",
        "#     img = cv2.imread(path, cv2.IMREAD_COLOR)\n",
        "#     fig.add_subplot(rows, columns, i)\n",
        "#     plt.imshow(img)\n",
        "# plt.show()"
      ]
    },
    {
      "cell_type": "code",
      "execution_count": null,
      "metadata": {
        "id": "b0ooHlBmvS2W"
      },
      "outputs": [],
      "source": [
        "# train_image_list = os.listdir(train_dir_path+'/'+dir_list_2[1])\n",
        "\n",
        "# w=10\n",
        "# h=10\n",
        "# fig=plt.figure(figsize=(15 , 20))\n",
        "# columns = 5\n",
        "# rows = 10\n",
        "# for i in range(1, columns*rows +1):\n",
        "#     path = train_dir_path+'/'+dir_list_2[1]+\"/\" + train_image_list[i-1]\n",
        "#     img = cv2.imread(path, cv2.IMREAD_COLOR)\n",
        "#     img = cv2.cvtColor(img, cv2.COLOR_BGR2RGB)\n",
        "#     fig.add_subplot(rows, columns, i)\n",
        "#     plt.imshow(img)\n",
        "# plt.show()"
      ]
    },
    {
      "cell_type": "code",
      "execution_count": null,
      "metadata": {
        "colab": {
          "base_uri": "https://localhost:8080/"
        },
        "id": "_oUejrO4vS2X",
        "outputId": "397f28be-5faf-4884-eff7-ae0b30eed959"
      },
      "outputs": [],
      "source": [
        "image_width = 256\n",
        "image_height = 256\n",
        "if K.image_data_format() == 'channels_first':\n",
        "    input_shape = (3,  image_height, image_width,)\n",
        "else:\n",
        "    input_shape = (image_height, image_width, 3)\n",
        "input_shape"
      ]
    },
    {
      "cell_type": "code",
      "execution_count": null,
      "metadata": {
        "id": "0bqGICNdvS2X"
      },
      "outputs": [],
      "source": [
        "train_datagen = ImageDataGenerator(\n",
        "    rescale=1.0 / 255.0, # this performs min-max normalization\n",
        "    shear_range=0.20,\n",
        "    horizontal_flip=True,\n",
        "    rotation_range=20,\n",
        "    zoom_range=0.2,\n",
        "    width_shift_range=0.2,\n",
        "    height_shift_range=0.2,\n",
        "    fill_mode='constant'\n",
        ")"
      ]
    },
    {
      "cell_type": "code",
      "execution_count": null,
      "metadata": {
        "id": "UZyM_oPw9sFT"
      },
      "outputs": [],
      "source": [
        "test_datagen = ImageDataGenerator(\n",
        "    rescale=1.0 / 255.0, # this performs min-max normalization\n",
        ")"
      ]
    },
    {
      "cell_type": "code",
      "execution_count": null,
      "metadata": {
        "colab": {
          "base_uri": "https://localhost:8080/"
        },
        "id": "HALZlAdqvS2X",
        "outputId": "3f825669-d751-4e64-f3be-3d041dfb0be3"
      },
      "outputs": [],
      "source": [
        "train_generator = train_datagen.flow_from_directory(\n",
        "        train_dir_path,\n",
        "        target_size=(image_height, image_width),\n",
        "        batch_size=8,\n",
        "        color_mode=\"rgb\",\n",
        "        class_mode='binary',\n",
        "        shuffle=True,\n",
        ")"
      ]
    },
    {
      "cell_type": "code",
      "execution_count": null,
      "metadata": {
        "id": "qwNL1CowvS2X"
      },
      "outputs": [],
      "source": [
        "class_weights = class_weight.compute_class_weight(\n",
        "                class_weight = 'balanced',\n",
        "                classes = np.unique(train_generator.classes),\n",
        "                y=train_generator.classes)\n",
        "for cls in train_generator.classes:\n",
        "    class_weights[cls]\n",
        "class_weights_1 = { 0 : class_weights[0] , 1 : class_weights[1] }"
      ]
    },
    {
      "cell_type": "code",
      "execution_count": null,
      "metadata": {
        "colab": {
          "base_uri": "https://localhost:8080/"
        },
        "id": "wKyzpwGpvS2Y",
        "outputId": "baff658d-ab74-47df-a72f-a232ecae1beb"
      },
      "outputs": [],
      "source": [
        "class_weights_1"
      ]
    },
    {
      "cell_type": "code",
      "execution_count": null,
      "metadata": {
        "colab": {
          "base_uri": "https://localhost:8080/"
        },
        "id": "NnJLKmrtvS2Y",
        "outputId": "ddf23a27-a43c-4834-b23c-a7fc38a027d3"
      },
      "outputs": [],
      "source": [
        "validation_generator = test_datagen.flow_from_directory(\n",
        "        valid_dir_path,\n",
        "        target_size=(image_height, image_width),\n",
        "        batch_size=8,\n",
        "        color_mode=\"rgb\",\n",
        "        class_mode='binary',\n",
        "        shuffle=True,\n",
        ")"
      ]
    },
    {
      "cell_type": "code",
      "execution_count": null,
      "metadata": {
        "id": "qRyUPxcYvS2Y"
      },
      "outputs": [],
      "source": [
        "def sensitivity(y_true, y_pred):\n",
        "    true_positives = K.sum(K.round(K.clip(y_true * y_pred, 0, 1)))\n",
        "    possible_positives = K.sum(K.round(K.clip(y_true, 0, 1)))\n",
        "    return true_positives / (possible_positives + K.epsilon())\n",
        "\n",
        "def specificity(y_true, y_pred):\n",
        "    true_negatives = K.sum(K.round(K.clip((1-y_true) * (1-y_pred), 0, 1)))\n",
        "    possible_negatives = K.sum(K.round(K.clip(1-y_true, 0, 1)))\n",
        "    return true_negatives / (possible_negatives + K.epsilon())\n",
        "\n",
        "def fmed(y_true, y_pred):\n",
        "    spec = specificity(y_true, y_pred)\n",
        "    sens = sensitivity(y_true, y_pred)\n",
        "    fmed = 2 * (spec * sens)/(spec+sens+K.epsilon())\n",
        "    return fmed\n",
        "\n",
        "def f1(y_true, y_pred):\n",
        "    true_positives = K.sum(K.round(K.clip(y_true * y_pred, 0, 1)))\n",
        "    possible_positives = K.sum(K.round(K.clip(y_true, 0, 1)))\n",
        "    predicted_positives = K.sum(K.round(K.clip(y_pred, 0, 1)))\n",
        "    precision = true_positives / (predicted_positives + K.epsilon())\n",
        "    recall = true_positives / (possible_positives + K.epsilon())\n",
        "    f1_val = 2*(precision*recall)/(precision+recall+K.epsilon())\n",
        "    return f1_val"
      ]
    },
    {
      "cell_type": "code",
      "execution_count": null,
      "metadata": {
        "id": "xr4IXW4FvS2Y"
      },
      "outputs": [],
      "source": [
        "def macro_f1(y_true, y_pred):\n",
        "     return f1_score(y_true, y_pred, average='macro')"
      ]
    },
    {
      "cell_type": "markdown",
      "metadata": {
        "id": "dE3zTNRgmRTA"
      },
      "source": [
        "**Importing pre-trained models**"
      ]
    },
    {
      "cell_type": "code",
      "execution_count": null,
      "metadata": {
        "colab": {
          "base_uri": "https://localhost:8080/"
        },
        "id": "RNYRRjHtg5Yj",
        "outputId": "a6ec7047-5ae1-417a-a2ed-a23cf09e3f05"
      },
      "outputs": [],
      "source": [
        "base_model_densenet = DenseNet201(weights='imagenet', include_top=False, input_shape=input_shape)"
      ]
    },
    {
      "cell_type": "markdown",
      "metadata": {
        "id": "z5la6mIwmY45"
      },
      "source": [
        "**Model Initialization**"
      ]
    },
    {
      "cell_type": "code",
      "execution_count": null,
      "metadata": {
        "id": "3icUeM4MboML"
      },
      "outputs": [],
      "source": [
        "# base_model_densenet.summary()"
      ]
    },
    {
      "cell_type": "code",
      "execution_count": null,
      "metadata": {
        "id": "8t4L_xSsvS2Z"
      },
      "outputs": [],
      "source": [
        "def generate_model():\n",
        "    model=Sequential([\n",
        "      base_model_densenet,\n",
        "      Dense(167, activation='selu'),\n",
        "      Dropout(0.9),\n",
        "      Dense(157, activation='leaky_relu'),\n",
        "      Dropout(0.2),\n",
        "      Dense(191, activation='relu'),\n",
        "      Dropout(0.6),\n",
        "      Dense(268, activation='elu'),\n",
        "      Dropout(0.8),\n",
        "      Dense(40, activation='elu'),\n",
        "      Dense(388, activation='relu'),\n",
        "      Dropout(0.5),\n",
        "      Dense(289, activation='leaky_relu'),\n",
        "      Dropout(0.9),\n",
        "      Dense(37, activation='leaky_relu'),\n",
        "      Dropout(0.5),\n",
        "      Dense(91, activation='selu'),\n",
        "      Dropout(0.1),\n",
        "      Dense(185, activation='selu'),\n",
        "      Dropout(0.2),\n",
        "      Dense(123, activation='selu'),\n",
        "      Dropout(0.7),\n",
        "      Dense(149, activation='selu'),\n",
        "      Dropout(0.3),\n",
        "      Flatten(),\n",
        "      Dense(1, activation='sigmoid')\n",
        "    ])\n",
        "    model.compile(optimizer=Adam(learning_rate=0.0001), loss='binary_crossentropy', metrics=['accuracy', sensitivity, specificity, fmed, f1])\n",
        "    return model"
      ]
    },
    {
      "cell_type": "code",
      "execution_count": null,
      "metadata": {
        "id": "PC_KpsRbxNT3"
      },
      "outputs": [],
      "source": [
        "model_densenet=generate_model()"
      ]
    },
    {
      "cell_type": "code",
      "execution_count": null,
      "metadata": {
        "colab": {
          "base_uri": "https://localhost:8080/"
        },
        "id": "VPvSJiKmvcYP",
        "outputId": "1257012d-245b-4ad0-dd2f-a42ee27ff729"
      },
      "outputs": [],
      "source": [
        "model_densenet.summary()"
      ]
    },
    {
      "cell_type": "code",
      "execution_count": null,
      "metadata": {
        "id": "pswg9yvHvS2Z"
      },
      "outputs": [],
      "source": [
        "num_train_samples = 128\n",
        "num_validation_samples = 32\n",
        "batch_size = 8"
      ]
    },
    {
      "cell_type": "markdown",
      "metadata": {
        "id": "8C0R28i6mmhk"
      },
      "source": [
        "**Training Densenet**"
      ]
    },
    {
      "cell_type": "code",
      "execution_count": null,
      "metadata": {
        "colab": {
          "base_uri": "https://localhost:8080/"
        },
        "id": "frD3J3aAjY6o",
        "outputId": "15d83fc2-b8a7-4345-d5a7-a120a9c00c97"
      },
      "outputs": [],
      "source": [
        "history_val_fmed_densenet = model_densenet.fit(\n",
        "    train_generator,\n",
        "    steps_per_epoch=num_train_samples//batch_size,\n",
        "    validation_data=validation_generator,\n",
        "    validation_steps=num_validation_samples//batch_size,\n",
        "    verbose=1,\n",
        "    epochs=1000,\n",
        "    callbacks=[\n",
        "        EarlyStopping(\n",
        "        monitor='val_loss',\n",
        "        min_delta=0,\n",
        "        patience=15,\n",
        "        verbose=1,\n",
        "        mode='min',\n",
        "        baseline=None,\n",
        "        restore_best_weights=True,\n",
        "        start_from_epoch=20\n",
        "        ),\n",
        "    ],\n",
        "    class_weight = class_weights_1\n",
        "    )"
      ]
    },
    {
      "cell_type": "markdown",
      "metadata": {
        "id": "K-nhNORUm040"
      },
      "source": [
        "**Results & Visualization**"
      ]
    },
    {
      "cell_type": "code",
      "execution_count": null,
      "metadata": {
        "colab": {
          "base_uri": "https://localhost:8080/"
        },
        "id": "H2wP_p9Mk526",
        "outputId": "e806dde4-5da9-4232-9640-94b00e7f4068"
      },
      "outputs": [],
      "source": [
        "# list all data in history\n",
        "history = history_val_fmed_densenet\n",
        "print(history.history.keys())"
      ]
    },
    {
      "cell_type": "markdown",
      "metadata": {
        "id": "L1Ire8O-m5FL"
      },
      "source": [
        "**summarize history for fmed score**"
      ]
    },
    {
      "cell_type": "code",
      "execution_count": null,
      "metadata": {
        "colab": {
          "base_uri": "https://localhost:8080/",
          "height": 472
        },
        "id": "5L4bJ-dIluU9",
        "outputId": "da599593-2473-4e5e-db35-679c58353c06"
      },
      "outputs": [],
      "source": [
        "# summarize history for fmed score\n",
        "plt.plot(history.history['fmed'])\n",
        "plt.plot(history.history['val_fmed'])\n",
        "plt.title('DenseNet Model Fmed score vs. epochs')\n",
        "plt.ylabel('Fmed')\n",
        "plt.xlabel('epochs')\n",
        "plt.legend(['train', 'test'], loc='lower right')\n",
        "plt.show()"
      ]
    },
    {
      "cell_type": "markdown",
      "metadata": {
        "id": "T1DMnFDDnByA"
      },
      "source": [
        "**Summarize history for sensitivity score**"
      ]
    },
    {
      "cell_type": "code",
      "execution_count": null,
      "metadata": {
        "colab": {
          "base_uri": "https://localhost:8080/",
          "height": 472
        },
        "id": "9Vvu4kHqnjke",
        "outputId": "6c874de5-eafd-46cb-e970-623f7ae2c7fc"
      },
      "outputs": [],
      "source": [
        "# summarize history for sensitivity score\n",
        "plt.plot(history.history['sensitivity'])\n",
        "plt.plot(history.history['val_sensitivity'])\n",
        "plt.title('DenseNet Model Sensitivity score vs. epochs')\n",
        "plt.ylabel('Sensitivity')\n",
        "plt.xlabel('epochs')\n",
        "plt.legend(['train', 'test'], loc='lower right')\n",
        "plt.show()\n",
        "\n"
      ]
    },
    {
      "cell_type": "markdown",
      "metadata": {
        "id": "Xf8Nm98OnWCM"
      },
      "source": [
        "**summarize history for specificity score**"
      ]
    },
    {
      "cell_type": "code",
      "execution_count": null,
      "metadata": {
        "colab": {
          "base_uri": "https://localhost:8080/",
          "height": 472
        },
        "id": "1jeRFcs0nzC2",
        "outputId": "101cc011-17ca-4478-dc62-6035aa5d5ee5"
      },
      "outputs": [],
      "source": [
        "# summarize history for specificity score\n",
        "plt.plot(history.history['specificity'])\n",
        "plt.plot(history.history['val_specificity'])\n",
        "plt.title('DenseNet Model Specificity score vs. epochs')\n",
        "plt.ylabel('Specificity')\n",
        "plt.xlabel('epochs')\n",
        "plt.legend(['train', 'test'], loc='lower right')\n",
        "plt.show()\n"
      ]
    },
    {
      "cell_type": "markdown",
      "metadata": {
        "id": "UVracKwInaZ-"
      },
      "source": [
        "**summarize history for f1 score**"
      ]
    },
    {
      "cell_type": "code",
      "execution_count": null,
      "metadata": {
        "colab": {
          "base_uri": "https://localhost:8080/",
          "height": 472
        },
        "id": "NYGK42n2n9UM",
        "outputId": "98bd6148-e5a9-406f-aa98-2a5a93de1857"
      },
      "outputs": [],
      "source": [
        "# summarize history for f1 score\n",
        "plt.plot(history.history['f1'])\n",
        "plt.plot(history.history['val_f1'])\n",
        "plt.title('DenseNet Model F1 score vs. epochs')\n",
        "plt.ylabel('F1')\n",
        "plt.xlabel('epochs')\n",
        "plt.legend(['train', 'test'], loc='lower right')\n",
        "plt.show()\n",
        "\n"
      ]
    },
    {
      "cell_type": "markdown",
      "metadata": {
        "id": "1LkLSZXQneE-"
      },
      "source": [
        "**summarize history for accuracy**"
      ]
    },
    {
      "cell_type": "code",
      "execution_count": null,
      "metadata": {
        "colab": {
          "base_uri": "https://localhost:8080/",
          "height": 472
        },
        "id": "kwfA-prDoIof",
        "outputId": "6f7b43df-1bcc-4c1a-c8aa-69b9f71e0345"
      },
      "outputs": [],
      "source": [
        "# summarize history for accuracy\n",
        "plt.plot(history.history['accuracy'])\n",
        "plt.plot(history.history['val_accuracy'])\n",
        "plt.title('DenseNet Model accuracy vs. epochs')\n",
        "plt.ylabel('accuracy')\n",
        "plt.xlabel('epochs')\n",
        "plt.legend(['train', 'test'], loc='lower right')\n",
        "plt.show()"
      ]
    },
    {
      "cell_type": "markdown",
      "metadata": {
        "id": "UA2UyazOoUmP"
      },
      "source": [
        "**Summarise history for loss**"
      ]
    },
    {
      "cell_type": "code",
      "execution_count": null,
      "metadata": {
        "colab": {
          "base_uri": "https://localhost:8080/",
          "height": 472
        },
        "id": "M07Hipf8oTgB",
        "outputId": "bcc7d293-0958-4abc-beef-ac0162daa64a"
      },
      "outputs": [],
      "source": [
        "# summarize history for loss\n",
        "plt.plot(history.history['loss'])\n",
        "plt.plot(history.history['val_loss'])\n",
        "plt.title('DenseNet Model loss vs. epochs')\n",
        "plt.ylabel('loss')\n",
        "plt.xlabel('epochs')\n",
        "plt.legend(['train', 'test'], loc='lower right')\n",
        "plt.show()"
      ]
    },
    {
      "cell_type": "code",
      "execution_count": null,
      "metadata": {
        "colab": {
          "base_uri": "https://localhost:8080/"
        },
        "id": "t1Ahy6AWvS2b",
        "outputId": "b479829a-af2c-431c-936d-400d2019a474"
      },
      "outputs": [],
      "source": [
        "test_generator = test_datagen.flow_from_directory(\n",
        "        test_dir_path,\n",
        "        target_size=(image_height, image_width),\n",
        "        batch_size=8,\n",
        "        color_mode=\"rgb\",\n",
        "        class_mode='binary',\n",
        "        shuffle=True,\n",
        ")"
      ]
    },
    {
      "cell_type": "code",
      "execution_count": null,
      "metadata": {
        "colab": {
          "base_uri": "https://localhost:8080/"
        },
        "id": "hqkuE4NR0jyB",
        "outputId": "1dc7d565-9850-4347-e7ed-e9a576afbf8e"
      },
      "outputs": [],
      "source": [
        "results = model_densenet.evaluate(test_generator)\n",
        "print(f\"test_loss = {results[0]}\")\n",
        "print(f\"test_accuracy = {results[1]}\")\n",
        "print(f\"test_sensitivity = {results[2]}\")\n",
        "print(f\"test_specificity = {results[3]}\")\n",
        "print(f\"test_fmed = {results[4]}\")\n",
        "print(f\"test_f1_score = {results[5]}\")"
      ]
    },
    {
      "cell_type": "code",
      "execution_count": null,
      "metadata": {
        "colab": {
          "base_uri": "https://localhost:8080/"
        },
        "id": "KJj_OoaC62w4",
        "outputId": "1c5ad067-5d22-4708-f9db-0ae7990f649e"
      },
      "outputs": [],
      "source": [
        "probabilities = model_densenet.predict(test_generator)\n",
        "y_true = test_generator.classes\n",
        "y_pred = probabilities > 0.5"
      ]
    },
    {
      "cell_type": "code",
      "execution_count": null,
      "metadata": {
        "id": "18H9iBeL64t_"
      },
      "outputs": [],
      "source": [
        "aa = confusion_matrix(y_true, y_pred)"
      ]
    },
    {
      "cell_type": "code",
      "execution_count": null,
      "metadata": {
        "colab": {
          "base_uri": "https://localhost:8080/"
        },
        "id": "jOr0HZ0LvS2c",
        "outputId": "9fdf3046-818e-47b8-f6f9-114bd21a8f4c"
      },
      "outputs": [],
      "source": [
        "aa"
      ]
    },
    {
      "cell_type": "code",
      "execution_count": null,
      "metadata": {
        "id": "Tho5DlQLvS2c"
      },
      "outputs": [],
      "source": [
        "tn, fp, fn, tp = aa.ravel()"
      ]
    },
    {
      "cell_type": "code",
      "execution_count": null,
      "metadata": {
        "colab": {
          "base_uri": "https://localhost:8080/"
        },
        "id": "OD9Ho2CrvS2c",
        "outputId": "fc5862ec-823b-4d66-8be2-01f6c407a816"
      },
      "outputs": [],
      "source": [
        "specificity = tn / (tn+fp)\n",
        "print(specificity)\n",
        "\n",
        "sensitivity = tp / (tp + fn)\n",
        "print(sensitivity)"
      ]
    },
    {
      "cell_type": "code",
      "execution_count": null,
      "metadata": {
        "colab": {
          "base_uri": "https://localhost:8080/"
        },
        "id": "v5bgBc4NvS2c",
        "outputId": "5594ae76-27fe-4e8c-9d2e-ad06116999ba"
      },
      "outputs": [],
      "source": [
        "accuracy = (tn+tp) / (tn+fp+tp+fn)\n",
        "accuracy\n",
        "precision = tp / (tp+fp)\n",
        "precision\n",
        "recall = tp / (tp+fn)\n",
        "recall\n",
        "f1_score = 2* ((precision*recall)/(precision+recall))\n",
        "f1_score\n",
        "\n",
        "print(\"Accuracy   : \" , accuracy)\n",
        "print(\"Precision  : \" , precision)\n",
        "print(\"Recall     : \" , recall)\n",
        "print(\"F1 Score   : \" , f1_score)"
      ]
    },
    {
      "cell_type": "code",
      "execution_count": null,
      "metadata": {
        "id": "xsdzMBt5vS2c"
      },
      "outputs": [],
      "source": []
    },
    {
      "cell_type": "code",
      "execution_count": null,
      "metadata": {
        "id": "8khE664m7IGr"
      },
      "outputs": [],
      "source": []
    }
  ],
  "metadata": {
    "accelerator": "GPU",
    "colab": {
      "gpuType": "T4",
      "provenance": []
    },
    "kernelspec": {
      "display_name": "Python 3",
      "name": "python3"
    },
    "language_info": {
      "codemirror_mode": {
        "name": "ipython",
        "version": 3
      },
      "file_extension": ".py",
      "mimetype": "text/x-python",
      "name": "python",
      "nbconvert_exporter": "python",
      "pygments_lexer": "ipython3",
      "version": "3.7.6"
    }
  },
  "nbformat": 4,
  "nbformat_minor": 0
}
